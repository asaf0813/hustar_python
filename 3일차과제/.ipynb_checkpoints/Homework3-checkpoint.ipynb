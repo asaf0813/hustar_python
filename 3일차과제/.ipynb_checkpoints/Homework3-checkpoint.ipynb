{
 "cells": [
  {
   "cell_type": "markdown",
   "metadata": {},
   "source": [
    "+ 문제13) “done“을 입력할 때까지 사용자로부터 숫자를 입력 받아 리스트에 저장하고, “done“을 입력하면, 리스트의 평균, 최대값과 최소값을 출력하는 프로그램을 작성하시오."
   ]
  },
  {
   "cell_type": "code",
   "execution_count": 7,
   "metadata": {},
   "outputs": [
    {
     "name": "stdout",
     "output_type": "stream",
     "text": [
      "Enter a number : 7\n",
      "Enter a number : 2\n",
      "Enter a number : 9\n",
      "Enter a number : 3\n",
      "Enter a number : 5\n",
      "Enter a number : done\n",
      "\n",
      "[7.0, 2.0, 9.0, 3.0, 5.0]\n",
      "Average: 5.2\n",
      "Maximum: 9.0\n",
      "Minimum: 2.0\n"
     ]
    }
   ],
   "source": [
    "num_list=[]\n",
    "\n",
    "while True:\n",
    "    num = input('Enter a number : ')\n",
    "    if num == 'done':\n",
    "        break\n",
    "    else:\n",
    "        num_list.append(float(num))\n",
    "if len(num_list) == 0:\n",
    "    print(\"입력한 숫자가 없습니다.\")\n",
    "else:    \n",
    "    print('\\n',num_list,sep='')\n",
    "    print('Average: %.1f\\nMaximum: %.1f\\nMinimum: %.1f'%(sum(num_list)/len(num_list),max(num_list),min(num_list)))"
   ]
  },
  {
   "cell_type": "markdown",
   "metadata": {},
   "source": [
    "### 파이썬 프로그래밍 기초 실습3"
   ]
  },
  {
   "cell_type": "markdown",
   "metadata": {},
   "source": [
    "+ 실습1) for 문을 사용하여 딕셔너리 타입의 d의 모든 value를 출력해 보시오. "
   ]
  },
  {
   "cell_type": "markdown",
   "metadata": {},
   "source": [
    "+ 딕셔너리 출력은 random이라서 출력값이 매번 달라질 수 있다...."
   ]
  },
  {
   "cell_type": "code",
   "execution_count": 3,
   "metadata": {},
   "outputs": [
    {
     "name": "stdout",
     "output_type": "stream",
     "text": [
      "1 2 10 "
     ]
    }
   ],
   "source": [
    "d = {'youn': 1, 'park': 2, 'kim': 10}\n",
    "for i in d.values():\n",
    "    print(i,end=' ')"
   ]
  },
  {
   "cell_type": "code",
   "execution_count": 4,
   "metadata": {},
   "outputs": [
    {
     "name": "stdout",
     "output_type": "stream",
     "text": [
      "1 2 10 "
     ]
    }
   ],
   "source": [
    "d = {'youn': 1, 'park': 2, 'kim': 10}\n",
    "for i in d:\n",
    "    print(d[i],end=' ')"
   ]
  },
  {
   "cell_type": "code",
   "execution_count": 5,
   "metadata": {},
   "outputs": [
    {
     "name": "stdout",
     "output_type": "stream",
     "text": [
      "1 2 10 "
     ]
    }
   ],
   "source": [
    "d = {'youn': 1, 'park': 2, 'kim': 10}\n",
    "s_dict = sorted(d.items(),reverse=True)\n",
    "for i in range(len(s_dict)):\n",
    "    print(s_dict[i][1],end=' ')"
   ]
  },
  {
   "cell_type": "code",
   "execution_count": 6,
   "metadata": {},
   "outputs": [
    {
     "name": "stdout",
     "output_type": "stream",
     "text": [
      "10 2 1 "
     ]
    }
   ],
   "source": [
    "d = {'youn': 1, 'park': 2, 'kim': 10}\n",
    "temp_list = list(d.values())\n",
    "temp_list = reversed(temp_list)\n",
    "for i in temp_list:\n",
    "    print(i,end=' ')"
   ]
  },
  {
   "cell_type": "code",
   "execution_count": 7,
   "metadata": {},
   "outputs": [
    {
     "name": "stdout",
     "output_type": "stream",
     "text": [
      "1 2 10 "
     ]
    }
   ],
   "source": [
    "d = {'youn': 1, 'park': 2, 'kim': 10}\n",
    "for key, value in d.items():\n",
    "    print(value, end=' ')"
   ]
  },
  {
   "cell_type": "markdown",
   "metadata": {},
   "source": [
    "+ 실습2) 아래와 같은 딕셔너리가 있다. {'one':1, 'two':2, 'three':3, 'four':4, 'five':5} key의 알파벳을 기준으로 순서대로 아래와 같이 (key, value)로 출력하시오."
   ]
  },
  {
   "cell_type": "code",
   "execution_count": 2,
   "metadata": {},
   "outputs": [
    {
     "name": "stdout",
     "output_type": "stream",
     "text": [
      "five 5\n",
      "four 4\n",
      "one 1\n",
      "three 3\n",
      "two 2\n"
     ]
    }
   ],
   "source": [
    "d = {'one':1,'two':2,'three':3,'four':4,'five':5}\n",
    "for i in sorted(d):\n",
    "    print (i,d[i])"
   ]
  },
  {
   "cell_type": "code",
   "execution_count": 18,
   "metadata": {},
   "outputs": [
    {
     "name": "stdout",
     "output_type": "stream",
     "text": [
      "five 5\n",
      "four 4\n",
      "one 1\n",
      "three 3\n",
      "two 2\n"
     ]
    }
   ],
   "source": [
    "d = {'one':1,'two':2,'three':3,'four':4,'five':5}\n",
    "d_sort = sorted(d.keys(),reverse=False)\n",
    "for i in d_sort:\n",
    "    print(i, d[i])"
   ]
  },
  {
   "cell_type": "markdown",
   "metadata": {},
   "source": [
    "+ 실습3) 어떤 문장을 입력 받으면 해당 문장에서 각 알파벳이 몇 개씩 나오는지 저장하는 딕셔너리를 만든 후, 아래와 같이 출력하시오."
   ]
  },
  {
   "cell_type": "code",
   "execution_count": 76,
   "metadata": {},
   "outputs": [
    {
     "name": "stdout",
     "output_type": "stream",
     "text": [
      "Enter a sentence : Python is fun!\n",
      "{'u': 1, 'o': 1, 'f': 1, 's': 1, 't': 1, 'y': 1, 'i': 1, ' ': 2, 'P': 1, 'n': 2, 'h': 1, '!': 1}\n"
     ]
    }
   ],
   "source": [
    "x = input(\"Enter a sentence : \")\n",
    "temp_dict = {}\n",
    "for key in x:\n",
    "    if key in temp_dict:\n",
    "        temp_dict[key] += 1 \n",
    "    else:\n",
    "        temp_dict[key] = 1\n",
    "print(temp_dict)"
   ]
  },
  {
   "cell_type": "code",
   "execution_count": 1,
   "metadata": {},
   "outputs": [
    {
     "name": "stdout",
     "output_type": "stream",
     "text": [
      "Enter a sentence : aaaa\n",
      "{'a': 4}\n"
     ]
    }
   ],
   "source": [
    "x = input(\"Enter a sentence : \")\n",
    "temp_dict = {}\n",
    "x_set = set(x)\n",
    "for key in x_set:\n",
    "    temp_dict[key] = x.count(key)\n",
    "print(temp_dict)"
   ]
  },
  {
   "cell_type": "code",
   "execution_count": null,
   "metadata": {},
   "outputs": [],
   "source": []
  }
 ],
 "metadata": {
  "kernelspec": {
   "display_name": "Python 3",
   "language": "python",
   "name": "python3"
  },
  "language_info": {
   "codemirror_mode": {
    "name": "ipython",
    "version": 3
   },
   "file_extension": ".py",
   "mimetype": "text/x-python",
   "name": "python",
   "nbconvert_exporter": "python",
   "pygments_lexer": "ipython3",
   "version": "3.5.6"
  }
 },
 "nbformat": 4,
 "nbformat_minor": 2
}
