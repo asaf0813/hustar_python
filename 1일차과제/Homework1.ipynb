{
 "cells": [
  {
   "cell_type": "markdown",
   "metadata": {},
   "source": [
    "### (문제1)"
   ]
  },
  {
   "cell_type": "code",
   "execution_count": 1,
   "metadata": {},
   "outputs": [
    {
     "name": "stdout",
     "output_type": "stream",
     "text": [
      "화씨온도:100\n",
      "섭씨온도:37.777778\n"
     ]
    }
   ],
   "source": [
    "F=float(input(\"화씨온도:\"))\n",
    "C=(F-32)*5/9\n",
    "print(\"섭씨온도:%f\"%C)"
   ]
  },
  {
   "cell_type": "markdown",
   "metadata": {},
   "source": [
    "### (문제2)"
   ]
  },
  {
   "cell_type": "code",
   "execution_count": 2,
   "metadata": {},
   "outputs": [
    {
     "name": "stdout",
     "output_type": "stream",
     "text": [
      "투입한돈:5000\n",
      "물건값:2700\n",
      "거스름돈:2300\n",
      "500원짜리:4개\n",
      "100원짜리:3개\n"
     ]
    }
   ],
   "source": [
    "money=float(input(\"투입한돈:\"))\n",
    "price=float(input(\"물건값:\"))\n",
    "\n",
    "balance=money-price\n",
    "print(\"거스름돈:%d\"%balance)\n",
    "\n",
    "five=balance//500\n",
    "print(\"500원짜리:%d개\"%five)\n",
    "\n",
    "one=((balance-(500*five))//100)\n",
    "print(\"100원짜리:%d개\"%one)"
   ]
  },
  {
   "cell_type": "markdown",
   "metadata": {},
   "source": [
    "### (문제3)"
   ]
  },
  {
   "cell_type": "code",
   "execution_count": 3,
   "metadata": {},
   "outputs": [
    {
     "name": "stdout",
     "output_type": "stream",
     "text": [
      "반지름을 입력하시오:5\n",
      "원둘레:31.42\n",
      "원넓이:78.54\n"
     ]
    }
   ],
   "source": [
    "r=float(input(\"반지름을 입력하시오:\"))\n",
    "\n",
    "pi = float(3.141592)\n",
    "\n",
    "l=2*pi*r\n",
    "print(\"원둘레:%.2f\"%l)\n",
    "s=pi*r*r\n",
    "print(\"원넓이:%.2f\"%s)"
   ]
  },
  {
   "cell_type": "markdown",
   "metadata": {},
   "source": [
    "### (문제4)"
   ]
  },
  {
   "cell_type": "code",
   "execution_count": 4,
   "metadata": {},
   "outputs": [
    {
     "name": "stdout",
     "output_type": "stream",
     "text": [
      "한 문장을 입력하시오:Python is fun!\n",
      "['P', 'y', 't', 'h', 'o', 'n', ' ', 'i', 's', ' ', 'f', 'u', 'n', '!']\n"
     ]
    }
   ],
   "source": [
    "sentence=input(\"한 문장을 입력하시오:\")\n",
    "\n",
    "t=\",\".join(sentence)\n",
    "\n",
    "print(t.split(\",\"))"
   ]
  },
  {
   "cell_type": "markdown",
   "metadata": {},
   "source": [
    "### (문제5)"
   ]
  },
  {
   "cell_type": "code",
   "execution_count": 8,
   "metadata": {},
   "outputs": [
    {
     "name": "stdout",
     "output_type": "stream",
     "text": [
      "Enter two intergers:8 5\n",
      "8 + 5 = 13\n",
      "8 - 5 = 3\n",
      "8 * 5 = 40\n",
      "8 / 5 = 1.6\n",
      "8 % 5 = 3\n"
     ]
    }
   ],
   "source": [
    "x,y=map(int,input('Enter two intergers:').split())\n",
    "\n",
    "a=x+y\n",
    "b=x-y\n",
    "c=x*y\n",
    "d=x/y\n",
    "e=x%y\n",
    "\n",
    "print('%d + %d ='%(x,y),a)\n",
    "print('%d - %d ='%(x,y),b)\n",
    "print('%d * %d ='%(x,y),c)\n",
    "print('%d / %d ='%(x,y),d)\n",
    "print('%d %% %d ='%(x,y),e)"
   ]
  },
  {
   "cell_type": "markdown",
   "metadata": {},
   "source": [
    "### (문제6)"
   ]
  },
  {
   "cell_type": "code",
   "execution_count": 6,
   "metadata": {},
   "outputs": [
    {
     "name": "stdout",
     "output_type": "stream",
     "text": [
      "Enter two intergers70 91\n",
      "The sum of 70 and 91 is 161\n",
      "The average of number is 80.5\n"
     ]
    }
   ],
   "source": [
    "x,y=input('Enter two intergers').split()\n",
    "\n",
    "x=int(x)\n",
    "y=int(y)\n",
    "\n",
    "\n",
    "s=x+y\n",
    "a=(x+y)/2\n",
    "\n",
    "print(\"The sum of %d and %d is %d\"%(x,y,s))\n",
    "print(\"The average of number is %s\"%(a))"
   ]
  },
  {
   "cell_type": "markdown",
   "metadata": {},
   "source": [
    "### (문제7)"
   ]
  },
  {
   "cell_type": "code",
   "execution_count": 7,
   "metadata": {},
   "outputs": [
    {
     "name": "stdout",
     "output_type": "stream",
     "text": [
      "날짜(연/월/일) 입력 :2019/08/12\n",
      "입력한 날짜의 10년 후는 2029년 08월 12일\n"
     ]
    }
   ],
   "source": [
    "date=(input(\"날짜(연/월/일) 입력 :\").split('/'))\n",
    "\n",
    "\n",
    "year,month,day=date\n",
    "\n",
    "year=int(year)\n",
    "datelist=list(map(int,date))\n",
    "\n",
    "y2=year+10\n",
    "\n",
    "\n",
    "\n",
    "print(\"입력한 날짜의 10년 후는 %s년 %s월 %s일\"%(y2,month,day))"
   ]
  },
  {
   "cell_type": "code",
   "execution_count": null,
   "metadata": {},
   "outputs": [],
   "source": []
  }
 ],
 "metadata": {
  "kernelspec": {
   "display_name": "Python 3",
   "language": "python",
   "name": "python3"
  },
  "language_info": {
   "codemirror_mode": {
    "name": "ipython",
    "version": 3
   },
   "file_extension": ".py",
   "mimetype": "text/x-python",
   "name": "python",
   "nbconvert_exporter": "python",
   "pygments_lexer": "ipython3",
   "version": "3.5.6"
  }
 },
 "nbformat": 4,
 "nbformat_minor": 2
}
