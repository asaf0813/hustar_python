{
 "cells": [
  {
   "cell_type": "code",
   "execution_count": 35,
   "metadata": {},
   "outputs": [
    {
     "name": "stdout",
     "output_type": "stream",
     "text": [
      "500\n",
      "1000\n",
      "3\n",
      "<function Account.get_balance at 0x1087de378>\n"
     ]
    }
   ],
   "source": [
    "class Account(object):\n",
    "# 계좌의 속성(Attribute)\n",
    "#     number = 'OOOO-OOO-OOOOOO'\n",
    "#     balance = 0\n",
    "#     rate = 1.0\n",
    "\n",
    "# class 변수\n",
    "    num_acc = 0\n",
    "\n",
    "# 생성자(객체본인의 변수)\n",
    "    def __init__(self, num='OOO-OOO-OOOOO', amnt=0, rate=1.0):\n",
    "        self.number = num \n",
    "        self.balance = amnt\n",
    "        self.rate = rate    \n",
    "        Account.num_acc += 1\n",
    "        \n",
    "# 계좌의 기능(Method) self는 객체 본인을 의미함\n",
    "    def deposit(self, money): #입금\n",
    "        self.balance += money # self.는 값을 불러올때 쓰는 것\n",
    "        \n",
    "    def withdraw(self, money): #인출\n",
    "        self.balance -= money\n",
    "    \n",
    "    def obtain_interest(self): #이자 획득\n",
    "        self.balance += self.balance*(self.rate/100)\n",
    "    \n",
    "#     def get_balance(self):\n",
    "#         return self.balance\n",
    "    \n",
    "#     def set_balance(self, amnt):\n",
    "#         self.balance = amnt\n",
    "    \n",
    "    def __add__(self, another): #두 계좌 통합 기능\n",
    "        new_acc=Account(amnt = self.balance + another.balance, rate=self.rate)\n",
    "        return new_acc    \n",
    "    \n",
    "#     def transfer(self, another, amnt):\n",
    "        \n",
    "#         trans_acc = \n",
    "        \n",
    "class MinBalanceAccount(Account): #Account 클래스를 상속받음\n",
    "    def __init__(self, min_balance=0, num='OOOO-OOO-OOOOO', amnt=0, rate=1.0, b_rate=1.0):\n",
    "        Account.__init__(self, num=num, amnt=amnt, rate=rate) # 부모 class의 생성자를 불러온다. 왼쪽 변수는 부모 class, 오른쪽은 바로 위에 자식 class에서 정의해준 변수\n",
    "        \n",
    "        self.minimum_balance = min_balance\n",
    "        self.bonus_rate = b_rate    \n",
    "        \n",
    "    def withdraw(self, amnt): # 인출 기능 수정\n",
    "        if self.balance - amnt < self.minimum_balance:\n",
    "            print('Sorry, minimum balance must bemaintained')\n",
    "        else:\n",
    "            Account.withdraw(self, amnt)\n",
    "    \n",
    "    def obtain_interest(self): #보너스 이율 반영\n",
    "        self.balance += (self.balance)*((self.rate+self.bonus_rate)/100.0)    \n",
    "\n",
    "# acc1 = Account()\n",
    "# acc2 = Account()\n",
    "# acc3 = Account()\n",
    "\n",
    "acc1 = MinBalanceAccount()\n",
    "acc2 = MinBalanceAccount()\n",
    "# acc3 = MinBalanceAccount.__add__(acc1,acc2)\n",
    "acc3 = acc1 + acc2 \n",
    "\n",
    "acc1.deposit(500)\n",
    "acc2.deposit(1000)\n",
    "\n",
    "#print(id()) 저장되어있는 ID가 나온다.\n",
    "print(acc1.balance)\n",
    "print(acc2.balance)\n",
    "print(Account.num_acc)\n",
    "print(acc3.balance)\n",
    "# print(acc1.num_acc)"
   ]
  },
  {
   "cell_type": "code",
   "execution_count": 94,
   "metadata": {},
   "outputs": [
    {
     "name": "stdout",
     "output_type": "stream",
     "text": [
      "Transfer Complete\n",
      "400\n",
      "1100\n",
      "OOOO-OOO-OOOOO\n"
     ]
    }
   ],
   "source": [
    "class Account(object):\n",
    "    num_acc = 0\n",
    "\n",
    "    def __init__(self, num='OOO-OOO-OOOOO', amnt=0, rate=1.0):\n",
    "        self.number = num \n",
    "        self.balance = amnt\n",
    "        self.rate = rate    \n",
    "        Account.num_acc += 1\n",
    "        \n",
    "    def deposit(self, money): \n",
    "        self.balance += money \n",
    "        \n",
    "    def withdraw(self, money): \n",
    "        self.balance -= money\n",
    "    \n",
    "    def obtain_interest(self):  \n",
    "        self.balance += self.balance*(self.rate/100)\n",
    "        \n",
    "    def __add__(self, another): \n",
    "        new_acc=Account(amnt = self.balance + another.balance, rate=self.rate)\n",
    "        return new_acc\n",
    "\n",
    "    def transfer(self, another, amnt):\n",
    "        if self.balance < amnt:\n",
    "            print('Sorry, Your account balance is low')\n",
    "        else:\n",
    "            self.withdraw(amnt)\n",
    "            another.deposit(amnt)\n",
    "            print(\"Transfer Complete\")\n",
    "            \n",
    "    def __repr__(self):\n",
    "        return self.number\n",
    "            \n",
    "class MinBalanceAccount(Account): \n",
    "    def __init__(self, min_balance=0, num='OOOO-OOO-OOOOO', amnt=0, rate=1.0, b_rate=1.0):\n",
    "        Account.__init__(self, num=num, amnt=amnt, rate=rate) \n",
    "        \n",
    "        self.minimum_balance = min_balance\n",
    "        self.bonus_rate = b_rate    \n",
    "        \n",
    "    def withdraw(self, amnt): \n",
    "        if self.balance - amnt < self.minimum_balance:\n",
    "            print('Sorry, minimum balance must be maintained')\n",
    "        else:\n",
    "            Account.withdraw(self, amnt)\n",
    "    \n",
    "    def obtain_interest(self): \n",
    "        self.balance += (self.balance)*((self.rate+self.bonus_rate)/100.0)\n",
    "          \n",
    "\n",
    "acc1 = MinBalanceAccount()\n",
    "acc2 = MinBalanceAccount()\n",
    "\n",
    "acc3 = acc1 + acc2 \n",
    "\n",
    "# acc1.deposit(500)\n",
    "# acc2.deposit(1000)\n",
    "\n",
    "acc1 = MinBalanceAccount(min_balance=0)\n",
    "acc1.balance = 500\n",
    "acc2 = MinBalanceAccount(min_balance=0)\n",
    "acc2.balance = 1000\n",
    "\n",
    "acc1.transfer(acc2, 100)\n",
    "\n",
    "print(acc1.balance)\n",
    "print(acc2.balance)\n",
    "print(acc1)\n",
    "# print(Account.num_acc)\n",
    "# print(acc3.balance)"
   ]
  },
  {
   "cell_type": "code",
   "execution_count": 62,
   "metadata": {},
   "outputs": [],
   "source": [
    "import numpy as np"
   ]
  },
  {
   "cell_type": "code",
   "execution_count": 91,
   "metadata": {},
   "outputs": [
    {
     "name": "stdout",
     "output_type": "stream",
     "text": [
      "{'one': 1, 'two': 2, 'three': 3, 'four': 4}\n"
     ]
    }
   ],
   "source": [
    "L1 = ['one','two','three','four']\n",
    "L2 = [1,2,3,4]\n",
    "\n",
    "d = { k:v for k,v in zip(L1,L2)}\n",
    "print(d)"
   ]
  },
  {
   "cell_type": "code",
   "execution_count": 96,
   "metadata": {},
   "outputs": [
    {
     "name": "stdout",
     "output_type": "stream",
     "text": [
      "<class 'str'>\n"
     ]
    }
   ],
   "source": [
    "a = [1,2,3,4,5]\n",
    "a = str(a)\n",
    "print(type(a))"
   ]
  },
  {
   "cell_type": "code",
   "execution_count": null,
   "metadata": {},
   "outputs": [],
   "source": []
  }
 ],
 "metadata": {
  "kernelspec": {
   "display_name": "Python 3",
   "language": "python",
   "name": "python3"
  },
  "language_info": {
   "codemirror_mode": {
    "name": "ipython",
    "version": 3
   },
   "file_extension": ".py",
   "mimetype": "text/x-python",
   "name": "python",
   "nbconvert_exporter": "python",
   "pygments_lexer": "ipython3",
   "version": "3.7.0"
  }
 },
 "nbformat": 4,
 "nbformat_minor": 2
}
