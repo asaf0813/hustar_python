{
 "cells": [
  {
   "cell_type": "code",
   "execution_count": 17,
   "metadata": {},
   "outputs": [],
   "source": [
    "import os"
   ]
  },
  {
   "cell_type": "code",
   "execution_count": 18,
   "metadata": {},
   "outputs": [
    {
     "name": "stdout",
     "output_type": "stream",
     "text": [
      "a\n"
     ]
    }
   ],
   "source": [
    "if os.path.exists(\"text.txt\") == True:\n",
    "    print('a')"
   ]
  },
  {
   "cell_type": "code",
   "execution_count": 36,
   "metadata": {},
   "outputs": [
    {
     "name": "stdout",
     "output_type": "stream",
     "text": [
      "Enter a file name : text.txt\n",
      "FIRST LINE\n",
      "SECOND LINE\n",
      "THIRD LINE"
     ]
    }
   ],
   "source": [
    "file_name = input(\"Enter a file name : \")\n",
    "if os.path.exists(file_name) == True:\n",
    "    with open(file_name,\"r\") as f:\n",
    "        for line in f:\n",
    "            print(line.upper(), end='')\n",
    "else:\n",
    "    print(\"No such file or directory %s\" %file_name)"
   ]
  },
  {
   "cell_type": "code",
   "execution_count": 48,
   "metadata": {},
   "outputs": [],
   "source": [
    "if os.path.exists(\"text.txt\") == True:\n",
    "    temp = list()\n",
    "    with open(file_name, \"r\") as lines:\n",
    "        for line in lines:\n",
    "            temp.append(line)\n",
    "    f = open(\"new1.txt\", \"w\")\n",
    "    for i in temp:\n",
    "        a = '\\t'.join(i)\n",
    "        a += '\\n'\n",
    "        f.write(a)\n",
    "    f.close()\n",
    "    "
   ]
  },
  {
   "cell_type": "code",
   "execution_count": 47,
   "metadata": {},
   "outputs": [],
   "source": [
    "fr = open(\"text.txt\", \"r\")\n",
    "data = fr.read()\n",
    "fw = open(\"new.txt\", \"w\")\n",
    "fw.write(data)\n",
    "fr.close()\n",
    "fw.close()"
   ]
  },
  {
   "cell_type": "code",
   "execution_count": null,
   "metadata": {},
   "outputs": [],
   "source": []
  }
 ],
 "metadata": {
  "kernelspec": {
   "display_name": "Python 3",
   "language": "python",
   "name": "python3"
  },
  "language_info": {
   "codemirror_mode": {
    "name": "ipython",
    "version": 3
   },
   "file_extension": ".py",
   "mimetype": "text/x-python",
   "name": "python",
   "nbconvert_exporter": "python",
   "pygments_lexer": "ipython3",
   "version": "3.7.4"
  }
 },
 "nbformat": 4,
 "nbformat_minor": 2
}
