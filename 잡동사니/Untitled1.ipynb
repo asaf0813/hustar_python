{
 "cells": [
  {
   "cell_type": "code",
   "execution_count": 1,
   "metadata": {},
   "outputs": [
    {
     "name": "stdout",
     "output_type": "stream",
     "text": [
      "1. 암호화 2. 암호해석 중 선택 : 1\n",
      "입력 파일명을 입력하세요 : adaf\n",
      "출력 파일명을 입력하세요 : asfadf\n"
     ]
    }
   ],
   "source": [
    "inFp, outFp, = None, None\n",
    "inStr, outStr = \"\", \"\"\n",
    "\n",
    "i = 0\n",
    "secu = 0\n",
    "\n",
    "#메인 코드 부분\n",
    "secuYN = input(\"1. 암호화 2. 암호해석 중 선택 : \")\n",
    "inFname = input(\"입력 파일명을 입력하세요 : \")\n",
    "outFname = input(\"출력 파일명을 입력하세요 : \")\n",
    "\n",
    "if secuYN == \"1\" :\n",
    "    secu = 100\n",
    "elif secuN == '2':\n",
    "    secu = -100"
   ]
  },
  {
   "cell_type": "code",
   "execution_count": null,
   "metadata": {},
   "outputs": [],
   "source": [
    "inFp = open(inFname, 'r', encoding = 'utf-8')\n",
    "outFp = open(outFname, 'w', encoding = 'utf-8')\n",
    "\n",
    "while True :\n",
    "    inStr = inFp.readline()\n",
    "    if no inStr :\n",
    "        break\n",
    "    outStr = \"\"\n",
    "    for i in range(0, len(inStr)) : \n",
    "        ch = inStr[i]\n",
    "        chNum = ord(ch)\n",
    "        chNum = chNum + secu\n",
    "        ch2 = chr(chNum)\n",
    "        outStr = outStr + ch2\n",
    "    \n",
    "    outFp.wirte(outStr)\n",
    "    \n",
    "outFp.close()\n",
    "inFp.close()\n",
    "print('%s --> %s 변환 완료'%(inFname,outFname))"
   ]
  }
 ],
 "metadata": {
  "kernelspec": {
   "display_name": "Python 3",
   "language": "python",
   "name": "python3"
  },
  "language_info": {
   "codemirror_mode": {
    "name": "ipython",
    "version": 3
   },
   "file_extension": ".py",
   "mimetype": "text/x-python",
   "name": "python",
   "nbconvert_exporter": "python",
   "pygments_lexer": "ipython3",
   "version": "3.7.4"
  }
 },
 "nbformat": 4,
 "nbformat_minor": 2
}
