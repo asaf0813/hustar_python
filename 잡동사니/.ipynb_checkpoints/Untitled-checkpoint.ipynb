{
 "cells": [
  {
   "cell_type": "code",
   "execution_count": null,
   "metadata": {},
   "outputs": [],
   "source": [
    "for x in range(1,10):\n",
    "    for y in range(2,10):\n",
    "        print(\"%d*%d=%2d\"%(y,x,x*y),end='   ')\n",
    "    print()"
   ]
  },
  {
   "cell_type": "code",
   "execution_count": null,
   "metadata": {},
   "outputs": [],
   "source": [
    "for x in range(2,10):\n",
    "    print('==%d단=='%x)\n",
    "    for y in range(1,10):\n",
    "        print('%d*%d=%d'%(x,y,x*y))"
   ]
  },
  {
   "cell_type": "code",
   "execution_count": null,
   "metadata": {},
   "outputs": [],
   "source": [
    "date=input(\"날짜(연/월/일) 입력 :\").split('/')\n",
    "\n",
    "year,month,day=date\n",
    "year=int(year)\n",
    "y2=year+10\n",
    "\n",
    "print(\"입력한 날짜의 10년 후는 %s년 %s월 %s일\"%(y2,month,day))"
   ]
  },
  {
   "cell_type": "code",
   "execution_count": null,
   "metadata": {},
   "outputs": [],
   "source": [
    "year,month,day = map(int,input(\"날짜(연/월/일) 입력 : \").split('/'))\n",
    "print(\"입력한 날짜의 10년 후는 %s년 %s월 %s일\"%(year+10,month,day))"
   ]
  },
  {
   "cell_type": "code",
   "execution_count": null,
   "metadata": {},
   "outputs": [],
   "source": [
    "T = int(input())\n",
    "for i in range(T):\n",
    "    eng_score = int(input(\"영어 점수 입력 : \"))\n",
    "    math_score = int(input(\"수학 점수 입력 : \"))\n",
    "    sum_score = eng_score + math_score\n",
    "    if sum_score >= 110:\n",
    "        if eng_score and math_score >= 40:\n",
    "            print(\"합격\")\n",
    "        elif eng_score < 40:\n",
    "            print(\"불합격 : 영어 점수 부족\")\n",
    "        elif math_score < 40:\n",
    "            print(\"불합격 : 수학 점수 부족\") \n",
    "    else:\n",
    "        print(\"불합격 : 총합 점수 부족\")"
   ]
  },
  {
   "cell_type": "code",
   "execution_count": null,
   "metadata": {},
   "outputs": [],
   "source": [
    "num = map(int,input().split())\n",
    "print(\"가장 큰 수는 %d 입니다.\"%(max(num)))"
   ]
  },
  {
   "cell_type": "code",
   "execution_count": null,
   "metadata": {},
   "outputs": [],
   "source": [
    "num = list(map(int,input().split()))\n",
    "max_num = 0\n",
    "if num[0] <= num[1]:\n",
    "    if num[1] <= num[2]:\n",
    "        max_num = num[2]\n",
    "    else:\n",
    "        max_num = num[1]\n",
    "elif num[0] >= num[1]:\n",
    "    if num[0] >= num[2]:\n",
    "        max_num = num[0]\n",
    "    else:\n",
    "        max_num = num[2]\n",
    "print(\"가장 큰 수는 %d 입니다.\"%(max_num))"
   ]
  },
  {
   "cell_type": "code",
   "execution_count": null,
   "metadata": {},
   "outputs": [],
   "source": [
    "dan =int(input('출력하고 하고 싶은 단을 입력하세요:'))\n",
    "for i in range(1,10):\n",
    "    print('%d * %d = %d'%(dan,i,dan*i))"
   ]
  },
  {
   "cell_type": "code",
   "execution_count": null,
   "metadata": {},
   "outputs": [],
   "source": [
    "star = str(input(\"Input an integer: \"))\n",
    "for i in star:\n",
    "    print(int(i)*'★')"
   ]
  },
  {
   "cell_type": "code",
   "execution_count": null,
   "metadata": {},
   "outputs": [],
   "source": [
    "num_list=[]\n",
    "\n",
    "while True:\n",
    "    num = input('Enter a number : ')\n",
    "    if num == 'done':\n",
    "        break\n",
    "    else:\n",
    "        num_list.append(float(num))\n",
    "        \n",
    "print('\\n',num_list,sep='')\n",
    "print('Average: %.1f\\nMaximum: %.1f\\nMinimum: %.1f'%(sum(num_list)/len(num_list),max(num_list),min(num_list)))"
   ]
  },
  {
   "cell_type": "code",
   "execution_count": null,
   "metadata": {},
   "outputs": [],
   "source": [
    "num = 1\n",
    "num_sum = 0\n",
    "while num <= 10:\n",
    "    num_sum += num\n",
    "    num += 1\n",
    "print(num_sum)"
   ]
  },
  {
   "cell_type": "code",
   "execution_count": null,
   "metadata": {},
   "outputs": [],
   "source": [
    "star = (input(\"Input an integer: \"))\n",
    "for i in star:\n",
    "    print(int(i)*'★')"
   ]
  },
  {
   "cell_type": "code",
   "execution_count": null,
   "metadata": {},
   "outputs": [],
   "source": [
    "colors = []"
   ]
  },
  {
   "cell_type": "code",
   "execution_count": null,
   "metadata": {},
   "outputs": [],
   "source": [
    "colors.append(\"red\")\n",
    "colors.append(\"green\")\n",
    "colors.append(\"blue\")\n",
    "print(colors)"
   ]
  },
  {
   "cell_type": "code",
   "execution_count": null,
   "metadata": {},
   "outputs": [],
   "source": [
    "colors.append(\"red\")\n",
    "print(colors)"
   ]
  },
  {
   "cell_type": "code",
   "execution_count": null,
   "metadata": {},
   "outputs": [],
   "source": [
    "colors.remove(\"red\")\n",
    "print(colors)"
   ]
  },
  {
   "cell_type": "code",
   "execution_count": null,
   "metadata": {},
   "outputs": [],
   "source": [
    "def add(x,y):\n",
    "    add = x + y\n",
    "    return add\n",
    "def sub(x,y):\n",
    "    sub = x - y\n",
    "    return sub\n",
    "def mul(x,y):\n",
    "    mul = x * y\n",
    "    return mul\n",
    "def div(x,y):\n",
    "    div = x / y\n",
    "    return div\n",
    "a = 1 \n",
    "b = 1\n",
    "c = add(a,b)\n",
    "d = sub(a,b)\n",
    "e = mul(a,b)\n",
    "f = div(a,b)\n",
    "print(c,d,e,f,sep='\\n')"
   ]
  },
  {
   "cell_type": "code",
   "execution_count": null,
   "metadata": {},
   "outputs": [],
   "source": [
    "def factorial(n):\n",
    "    f = 1\n",
    "    for i in range(1,n+1):\n",
    "        f *= i\n",
    "    return print(f)\n",
    "factorial(3)\n",
    "factorial(5) \n",
    "factorial(8)\n",
    "factorial(1)"
   ]
  },
  {
   "cell_type": "code",
   "execution_count": null,
   "metadata": {},
   "outputs": [],
   "source": [
    "def pows(n,a):\n",
    "    return print(n ** a)\n",
    "pows(5,3)\n",
    "pows(4,2)\n",
    "pows(2,4)"
   ]
  },
  {
   "cell_type": "code",
   "execution_count": null,
   "metadata": {},
   "outputs": [],
   "source": [
    "f = open(\"new.txt\", \"w\")\n",
    "for i in range(1,6):\n",
    "    data = \"%d line\\n\" %i\n",
    "    f.write(data)\n",
    "f.close()"
   ]
  },
  {
   "cell_type": "code",
   "execution_count": 8,
   "metadata": {},
   "outputs": [
    {
     "name": "stdout",
     "output_type": "stream",
     "text": [
      "1 line\n",
      "2 line\n"
     ]
    }
   ],
   "source": [
    "fr = open(\"new.txt\",'r')\n",
    "line1 = fr.readline()\n",
    "line2 = fr.readline()\n",
    "fr.close()\n",
    "print(line1,end='')\n",
    "print(line2,end='')\n"
   ]
  },
  {
   "cell_type": "code",
   "execution_count": 5,
   "metadata": {},
   "outputs": [
    {
     "name": "stdout",
     "output_type": "stream",
     "text": [
      "['1 line\\n', '2 line\\n', '3 line\\n', '4 line\\n', '5 line\\n']"
     ]
    }
   ],
   "source": [
    "fr = open(\"new.txt\",'r')\n",
    "line = fr.readlines()\n",
    "fr.close()\n",
    "print(line,end='')"
   ]
  },
  {
   "cell_type": "code",
   "execution_count": 24,
   "metadata": {},
   "outputs": [
    {
     "name": "stdout",
     "output_type": "stream",
     "text": [
      "['third', 'line']\n"
     ]
    }
   ],
   "source": [
    "f = open(\"text.txt\",'r')\n",
    "word =line.split()\n",
    "print(word)"
   ]
  },
  {
   "cell_type": "code",
   "execution_count": 31,
   "metadata": {},
   "outputs": [
    {
     "name": "stdout",
     "output_type": "stream",
     "text": [
      "second 1\n",
      "line 3\n",
      "third 1\n",
      "first 1\n"
     ]
    }
   ],
   "source": [
    "f = open(\"text.txt\",\"r\")\n",
    "d = {}\n",
    "for line in f:\n",
    "    line_list = line.split()\n",
    "    for word in line_list:\n",
    "        if word in d:\n",
    "            d[word] += 1\n",
    "        else:\n",
    "            d[word] = 1\n",
    "f.close()\n",
    "for i in d:\n",
    "    print(i,d[i])"
   ]
  },
  {
   "cell_type": "code",
   "execution_count": 49,
   "metadata": {},
   "outputs": [
    {
     "name": "stdout",
     "output_type": "stream",
     "text": [
      "second 1\n",
      "line 3\n",
      "third 1\n",
      "first 1\n"
     ]
    }
   ],
   "source": [
    "f = open(\"text.txt\",\"r\")\n",
    "dict_word = {}\n",
    "word = f.read().split()\n",
    "word_set = set(word)\n",
    "for i in word_set:\n",
    "    dict_word[i] = word.count(i)\n",
    "for k, v in dict_word.items():\n",
    "    print(k,v)"
   ]
  },
  {
   "cell_type": "code",
   "execution_count": 46,
   "metadata": {},
   "outputs": [],
   "source": [
    "def get_grade(para):\n",
    "    if para['Average'] >= 90:\n",
    "        para[\"Grade\"] = \"A\"\n",
    "    elif para['Average'] >= 80:\n",
    "        para[\"Grade\"] = \"B\"\n",
    "    elif para['Average'] >= 70:\n",
    "        para[\"Grade\"] = \"C\"\n",
    "    elif para['Average'] >= 60:\n",
    "        para[\"Grade\"] = \"D\"\n",
    "    else:\n",
    "        para[\"Grade\"] = \"F\""
   ]
  },
  {
   "cell_type": "code",
   "execution_count": 47,
   "metadata": {},
   "outputs": [],
   "source": [
    "def show(students):\n",
    "    sorted_students = sorted(students, key=lambda x: x['Average'], reverse=True)\n",
    "    student_list = list()\n",
    "    print(\"Student\\t\\t\\tName\\t\\tMidterm\\t\\tFinal\\t\\tAverage\\t\\tGrade\")\n",
    "    print('---------------------------------------------------------------------------------------------')\n",
    "    for student in sorted_students:\n",
    "        temp = list(student.values())\n",
    "        student_list.append(temp)\n",
    "        data = '%s\\t%15s\\t\\t%4s\\t\\t%3s\\t\\t%6.1f\\t\\t%4s\\n' % (temp[0], temp[1], temp[2], temp[3], temp[4], temp[5])\n",
    "        print(data)"
   ]
  },
  {
   "cell_type": "code",
   "execution_count": 48,
   "metadata": {},
   "outputs": [],
   "source": [
    "def start():\n",
    "    f = open(\"students.txt\", 'r')\n",
    "    lines = f.readlines()\n",
    "    f.close()\n",
    "\n",
    "    for index, line in enumerate(lines):\n",
    "        lines[index] = line.strip().split('\\t')\n",
    "\n",
    "    students = list()\n",
    "    for i in lines:\n",
    "        temp = dict()\n",
    "        temp['ID'], temp['Name'], temp['Midterm'], temp['Final'] = i\n",
    "        temp['Average'], temp['Grade'] = '', ''\n",
    "        students.append(temp)\n",
    "    for index, student in enumerate(students):\n",
    "        student['Average'] = (int(student['Midterm']) + int(student['Final'])) / 2\n",
    "        get_grade(students[index])\n",
    "\n",
    "    return students"
   ]
  },
  {
   "cell_type": "code",
   "execution_count": 49,
   "metadata": {},
   "outputs": [
    {
     "data": {
      "text/plain": [
       "[{'ID': '20180001',\n",
       "  'Name': 'Hong Gildong',\n",
       "  'Midterm': '84',\n",
       "  'Final': '73',\n",
       "  'Average': 78.5,\n",
       "  'Grade': 'C'},\n",
       " {'ID': '20180002',\n",
       "  'Name': 'Lee Jieun',\n",
       "  'Midterm': '92',\n",
       "  'Final': '89',\n",
       "  'Average': 90.5,\n",
       "  'Grade': 'A'},\n",
       " {'ID': '20180007',\n",
       "  'Name': 'Kim Cheolsu',\n",
       "  'Midterm': '57',\n",
       "  'Final': '62',\n",
       "  'Average': 59.5,\n",
       "  'Grade': 'F'},\n",
       " {'ID': '20180009',\n",
       "  'Name': 'Lee Yeonghee',\n",
       "  'Midterm': '81',\n",
       "  'Final': '84',\n",
       "  'Average': 82.5,\n",
       "  'Grade': 'B'},\n",
       " {'ID': '20180011',\n",
       "  'Name': 'Ha Donghun',\n",
       "  'Midterm': '58',\n",
       "  'Final': '68',\n",
       "  'Average': 63.0,\n",
       "  'Grade': 'D'}]"
      ]
     },
     "execution_count": 49,
     "metadata": {},
     "output_type": "execute_result"
    }
   ],
   "source": [
    "import sys\n",
    "start()"
   ]
  },
  {
   "cell_type": "code",
   "execution_count": null,
   "metadata": {},
   "outputs": [
    {
     "name": "stdout",
     "output_type": "stream",
     "text": [
      "#show\n",
      "Student\t\t\tName\t\tMidterm\t\tFinal\t\tAverage\t\tGrade\n",
      "---------------------------------------------------------------------------------------------\n",
      "20180002\t      Lee Jieun\t\t  92\t\t 89\t\t  90.5\t\t   A\n",
      "\n",
      "20180009\t   Lee Yeonghee\t\t  81\t\t 84\t\t  82.5\t\t   B\n",
      "\n",
      "20180001\t   Hong Gildong\t\t  84\t\t 73\t\t  78.5\t\t   C\n",
      "\n",
      "20180011\t     Ha Donghun\t\t  58\t\t 68\t\t  63.0\t\t   D\n",
      "\n",
      "20180007\t    Kim Cheolsu\t\t  57\t\t 62\t\t  59.5\t\t   F\n",
      "\n"
     ]
    }
   ],
   "source": [
    "while True:\n",
    "    user_input = input('#')\n",
    "    if user_input == 'search':\n",
    "        search(start())\n",
    "    elif user_input == 'show':\n",
    "        show(start())\n",
    "    elif user_input == 'changescore':\n",
    "        changescore(students)\n",
    "    elif user_input == 'searchgrade':\n",
    "        searchgrade(students)\n",
    "    elif user_input == 'add':\n",
    "        add(students)\n",
    "    elif user_input == 'remove':\n",
    "        remove(students)\n",
    "    elif user_input == 'quit':\n",
    "        quit(students)\n",
    "        break\n",
    "    elif user_input == '?':\n",
    "        how()\n",
    "    else:\n",
    "        pass"
   ]
  },
  {
   "cell_type": "code",
   "execution_count": 3,
   "metadata": {},
   "outputs": [
    {
     "name": "stdout",
     "output_type": "stream",
     "text": [
      "25\n"
     ]
    }
   ],
   "source": [
    "s = 0\n",
    "for x in range(1,10):\n",
    "    if x % 2 == 0:\n",
    "        continue\n",
    "    s += x\n",
    "print(s)"
   ]
  },
  {
   "cell_type": "code",
   "execution_count": null,
   "metadata": {},
   "outputs": [],
   "source": []
  }
 ],
 "metadata": {
  "kernelspec": {
   "display_name": "Python 3",
   "language": "python",
   "name": "python3"
  },
  "language_info": {
   "codemirror_mode": {
    "name": "ipython",
    "version": 3
   },
   "file_extension": ".py",
   "mimetype": "text/x-python",
   "name": "python",
   "nbconvert_exporter": "python",
   "pygments_lexer": "ipython3",
   "version": "3.7.4"
  }
 },
 "nbformat": 4,
 "nbformat_minor": 2
}
