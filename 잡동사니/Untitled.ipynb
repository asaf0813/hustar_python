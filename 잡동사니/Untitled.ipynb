{
 "cells": [
  {
   "cell_type": "code",
   "execution_count": null,
   "metadata": {},
   "outputs": [],
   "source": [
    "for x in range(1,10):\n",
    "    for y in range(2,10):\n",
    "        print(\"%d*%d=%2d\"%(y,x,x*y),end='   ')\n",
    "    print()"
   ]
  },
  {
   "cell_type": "code",
   "execution_count": null,
   "metadata": {},
   "outputs": [],
   "source": [
    "for x in range(2,10):\n",
    "    print('==%d단=='%x)\n",
    "    for y in range(1,10):\n",
    "        print('%d*%d=%d'%(x,y,x*y))"
   ]
  },
  {
   "cell_type": "code",
   "execution_count": null,
   "metadata": {},
   "outputs": [],
   "source": [
    "date=input(\"날짜(연/월/일) 입력 :\").split('/')\n",
    "\n",
    "year,month,day=date\n",
    "year=int(year)\n",
    "y2=year+10\n",
    "\n",
    "print(\"입력한 날짜의 10년 후는 %s년 %s월 %s일\"%(y2,month,day))"
   ]
  },
  {
   "cell_type": "code",
   "execution_count": null,
   "metadata": {},
   "outputs": [],
   "source": [
    "year,month,day = map(int,input(\"날짜(연/월/일) 입력 : \").split('/'))\n",
    "print(\"입력한 날짜의 10년 후는 %s년 %s월 %s일\"%(year+10,month,day))"
   ]
  },
  {
   "cell_type": "code",
   "execution_count": null,
   "metadata": {},
   "outputs": [],
   "source": [
    "T = int(input())\n",
    "for i in range(T):\n",
    "    eng_score = int(input(\"영어 점수 입력 : \"))\n",
    "    math_score = int(input(\"수학 점수 입력 : \"))\n",
    "    sum_score = eng_score + math_score\n",
    "    if sum_score >= 110:\n",
    "        if eng_score and math_score >= 40:\n",
    "            print(\"합격\")\n",
    "        elif eng_score < 40:\n",
    "            print(\"불합격 : 영어 점수 부족\")\n",
    "        elif math_score < 40:\n",
    "            print(\"불합격 : 수학 점수 부족\") \n",
    "    else:\n",
    "        print(\"불합격 : 총합 점수 부족\")"
   ]
  },
  {
   "cell_type": "code",
   "execution_count": null,
   "metadata": {},
   "outputs": [],
   "source": [
    "num = map(int,input().split())\n",
    "print(\"가장 큰 수는 %d 입니다.\"%(max(num)))"
   ]
  },
  {
   "cell_type": "code",
   "execution_count": null,
   "metadata": {},
   "outputs": [],
   "source": [
    "num = list(map(int,input().split()))\n",
    "max_num = 0\n",
    "if num[0] <= num[1]:\n",
    "    if num[1] <= num[2]:\n",
    "        max_num = num[2]\n",
    "    else:\n",
    "        max_num = num[1]\n",
    "elif num[0] >= num[1]:\n",
    "    if num[0] >= num[2]:\n",
    "        max_num = num[0]\n",
    "    else:\n",
    "        max_num = num[2]\n",
    "print(\"가장 큰 수는 %d 입니다.\"%(max_num))"
   ]
  },
  {
   "cell_type": "code",
   "execution_count": null,
   "metadata": {},
   "outputs": [],
   "source": [
    "dan =int(input('출력하고 하고 싶은 단을 입력하세요:'))\n",
    "for i in range(1,10):\n",
    "    print('%d * %d = %d'%(dan,i,dan*i))"
   ]
  },
  {
   "cell_type": "code",
   "execution_count": null,
   "metadata": {},
   "outputs": [],
   "source": [
    "star = str(input(\"Input an integer: \"))\n",
    "for i in star:\n",
    "    print(int(i)*'★')"
   ]
  },
  {
   "cell_type": "code",
   "execution_count": null,
   "metadata": {},
   "outputs": [],
   "source": [
    "num_list=[]\n",
    "\n",
    "while True:\n",
    "    num = input('Enter a number : ')\n",
    "    if num == 'done':\n",
    "        break\n",
    "    else:\n",
    "        num_list.append(float(num))\n",
    "        \n",
    "print('\\n',num_list,sep='')\n",
    "print('Average: %.1f\\nMaximum: %.1f\\nMinimum: %.1f'%(sum(num_list)/len(num_list),max(num_list),min(num_list)))"
   ]
  },
  {
   "cell_type": "code",
   "execution_count": null,
   "metadata": {},
   "outputs": [],
   "source": [
    "num = 1\n",
    "num_sum = 0\n",
    "while num <= 10:\n",
    "    num_sum += num\n",
    "    num += 1\n",
    "print(num_sum)"
   ]
  },
  {
   "cell_type": "code",
   "execution_count": null,
   "metadata": {},
   "outputs": [],
   "source": [
    "star = (input(\"Input an integer: \"))\n",
    "for i in star:\n",
    "    print(int(i)*'★')"
   ]
  },
  {
   "cell_type": "code",
   "execution_count": null,
   "metadata": {},
   "outputs": [],
   "source": [
    "colors = []"
   ]
  },
  {
   "cell_type": "code",
   "execution_count": null,
   "metadata": {},
   "outputs": [],
   "source": [
    "colors.append(\"red\")\n",
    "colors.append(\"green\")\n",
    "colors.append(\"blue\")\n",
    "print(colors)"
   ]
  },
  {
   "cell_type": "code",
   "execution_count": null,
   "metadata": {},
   "outputs": [],
   "source": [
    "colors.append(\"red\")\n",
    "print(colors)"
   ]
  },
  {
   "cell_type": "code",
   "execution_count": null,
   "metadata": {},
   "outputs": [],
   "source": [
    "colors.remove(\"red\")\n",
    "print(colors)"
   ]
  },
  {
   "cell_type": "code",
   "execution_count": null,
   "metadata": {},
   "outputs": [],
   "source": [
    "def add(x,y):\n",
    "    add = x + y\n",
    "    return add\n",
    "def sub(x,y):\n",
    "    sub = x - y\n",
    "    return sub\n",
    "def mul(x,y):\n",
    "    mul = x * y\n",
    "    return mul\n",
    "def div(x,y):\n",
    "    div = x / y\n",
    "    return div\n",
    "a = 1 \n",
    "b = 1\n",
    "c = add(a,b)\n",
    "d = sub(a,b)\n",
    "e = mul(a,b)\n",
    "f = div(a,b)\n",
    "print(c,d,e,f,sep='\\n')"
   ]
  },
  {
   "cell_type": "code",
   "execution_count": null,
   "metadata": {},
   "outputs": [],
   "source": [
    "def factorial(n):\n",
    "    f = 1\n",
    "    for i in range(1,n+1):\n",
    "        f *= i\n",
    "    return print(f)\n",
    "factorial(3)\n",
    "factorial(5) \n",
    "factorial(8)\n",
    "factorial(1)"
   ]
  },
  {
   "cell_type": "code",
   "execution_count": null,
   "metadata": {},
   "outputs": [],
   "source": [
    "def pows(n,a):\n",
    "    return print(n ** a)\n",
    "pows(5,3)\n",
    "pows(4,2)\n",
    "pows(2,4)"
   ]
  },
  {
   "cell_type": "code",
   "execution_count": null,
   "metadata": {},
   "outputs": [],
   "source": [
    "f = open(\"new.txt\", \"w\")\n",
    "for i in range(1,6):\n",
    "    data = \"%d line\\n\" %i\n",
    "    f.write(data)\n",
    "f.close()"
   ]
  },
  {
   "cell_type": "code",
   "execution_count": null,
   "metadata": {},
   "outputs": [],
   "source": [
    "fr = open(\"new.txt\",'r')\n",
    "line1 = fr.readline()\n",
    "line2 = fr.readline()\n",
    "fr.close()\n",
    "print(line1,end='')\n",
    "print(line2,end='')\n"
   ]
  },
  {
   "cell_type": "code",
   "execution_count": null,
   "metadata": {},
   "outputs": [],
   "source": [
    "fr = open(\"new.txt\",'r')\n",
    "line = fr.readlines()\n",
    "fr.close()\n",
    "print(line,end='')"
   ]
  },
  {
   "cell_type": "code",
   "execution_count": null,
   "metadata": {},
   "outputs": [],
   "source": [
    "f = open(\"text.txt\",'r')\n",
    "word =line.split()\n",
    "print(word)"
   ]
  },
  {
   "cell_type": "code",
   "execution_count": null,
   "metadata": {
    "scrolled": true
   },
   "outputs": [],
   "source": [
    "f = open(\"text.txt\",\"r\")\n",
    "d = {}\n",
    "for line in f:\n",
    "    line_list = line.split()\n",
    "    for word in line_list:\n",
    "        if word in d:\n",
    "            d[word] += 1\n",
    "        else:\n",
    "            d[word] = 1\n",
    "f.close()\n",
    "for i in d:\n",
    "    print(i,d[i])"
   ]
  },
  {
   "cell_type": "code",
   "execution_count": null,
   "metadata": {},
   "outputs": [],
   "source": [
    "f = open(\"text.txt\",\"r\")\n",
    "dict_word = {}\n",
    "word = f.read().split()\n",
    "word_set = set(word)\n",
    "for i in word_set:\n",
    "    dict_word[i] = word.count(i)\n",
    "for k, v in dict_word.items():\n",
    "    print(k,v)"
   ]
  },
  {
   "cell_type": "code",
   "execution_count": null,
   "metadata": {},
   "outputs": [],
   "source": [
    "s = 0\n",
    "for x in range(1,10):\n",
    "    if x % 2 == 0:\n",
    "        continue\n",
    "    s += x\n",
    "print(s)"
   ]
  },
  {
   "cell_type": "code",
   "execution_count": null,
   "metadata": {},
   "outputs": [],
   "source": [
    "def hour_min_sec(second):\n",
    "    h = second // 3600\n",
    "    m = (second - h *3600) // 60  # second//60&60\n",
    "    s = (second - h *3600) - (m*60) # seoncd%60\n",
    "    return h,m,s\n",
    "    \n",
    "h, m, s = hour_min_sec(57894)\n",
    "print('%d시간 %d분 %d초' % (h, m, s))"
   ]
  },
  {
   "cell_type": "code",
   "execution_count": null,
   "metadata": {},
   "outputs": [],
   "source": [
    "t = [1,2,3]\n",
    "def test(a):\n",
    "    a += [4,5,6]\n",
    "    print(a)\n",
    "test(t)\n",
    "print(t)"
   ]
  },
  {
   "cell_type": "code",
   "execution_count": null,
   "metadata": {},
   "outputs": [],
   "source": [
    "t = {1:'a'}\n",
    "def test(a):\n",
    "    a[2] = 'b'\n",
    "    print(a)\n",
    "test(t)\n",
    "print(t)"
   ]
  },
  {
   "cell_type": "code",
   "execution_count": null,
   "metadata": {},
   "outputs": [],
   "source": [
    "t = (1,2,3)\n",
    "def test(a):\n",
    "    a += (4,5,6)\n",
    "    print(a)\n",
    "test(t)\n",
    "print(t)"
   ]
  },
  {
   "cell_type": "code",
   "execution_count": null,
   "metadata": {},
   "outputs": [],
   "source": [
    "t = 1\n",
    "def test(a):\n",
    "    a += 1\n",
    "    print(a)\n",
    "test(t)\n",
    "print(t)"
   ]
  },
  {
   "cell_type": "code",
   "execution_count": null,
   "metadata": {},
   "outputs": [],
   "source": [
    "def get_min_max(l):\n",
    "    a = min(l)\n",
    "    b = max(l)\n",
    "    c = l.remove(a)\n",
    "    c = l.remove(b)\n",
    "    return a,b\n",
    "\n",
    "    \n",
    "l = [3, 5, 9, 1, 2]\n",
    "(min_val, max_val) = get_min_max(l)\n",
    "print(min_val)\n",
    "print(max_val)\n",
    "print(l)"
   ]
  },
  {
   "cell_type": "code",
   "execution_count": null,
   "metadata": {},
   "outputs": [],
   "source": [
    "def dot_product(v1,v2):\n",
    "    result = 0\n",
    "    for i,j in v1.items():\n",
    "        if i in v2.keys():\n",
    "            result += (j*v2[i])\n",
    "    return result\n",
    "        \n",
    "v1={'a':5, 'b':2}\n",
    "\n",
    "v2={'b':2, 'c':2}\n",
    "\n",
    "dot_product(v1,v2)\n"
   ]
  },
  {
   "cell_type": "code",
   "execution_count": null,
   "metadata": {},
   "outputs": [],
   "source": [
    "def dot_product(v1,v2):\n",
    "    res = 0\n",
    "#     s_keys = set(v1.keys()).intersect(set(v2.keys()))\n",
    "    s_keys = set(v1.keys())&set(v2.keys())\n",
    "    for k in s_keys:\n",
    "        res += v1[k]*v2[k]\n",
    "    return res\n",
    "\n",
    "v1={'a':5, 'b':2}\n",
    "\n",
    "v2={'b':2, 'c':2}\n",
    "\n",
    "dot_product(v1,v2)"
   ]
  },
  {
   "cell_type": "code",
   "execution_count": null,
   "metadata": {},
   "outputs": [],
   "source": [
    "def dot_product(v1,v2):\n",
    "    result = 0\n",
    "    for i,j in v1.items():\n",
    "        try:\n",
    "            result += (j*v2[i])\n",
    "        except KeyError:\n",
    "            pass\n",
    "        except ValueError:\n",
    "            pass\n",
    "    return result\n",
    "        \n",
    "v1={'a':5, 'b':2}\n",
    "\n",
    "v2={'d':2, 'c':2}\n",
    "\n",
    "dot_product(v1,v2)"
   ]
  },
  {
   "cell_type": "code",
   "execution_count": null,
   "metadata": {},
   "outputs": [],
   "source": [
    "def dot_product(v1,v2):\n",
    "    return sum([v1[k]*v2[k] for k in v1 if k in v2])\n",
    "\n",
    "v1={'a':5, 'b':2}\n",
    "\n",
    "v2={'a':2, 'b':2}\n",
    "\n",
    "dot_product(v1,v2)"
   ]
  },
  {
   "cell_type": "code",
   "execution_count": null,
   "metadata": {},
   "outputs": [],
   "source": [
    "import random\n",
    "\n",
    "random.choice('abcdefg')"
   ]
  },
  {
   "cell_type": "code",
   "execution_count": null,
   "metadata": {},
   "outputs": [],
   "source": [
    "random.randint(1,10)"
   ]
  },
  {
   "cell_type": "code",
   "execution_count": null,
   "metadata": {},
   "outputs": [],
   "source": [
    "a = [1,2,3,4,5]"
   ]
  },
  {
   "cell_type": "code",
   "execution_count": null,
   "metadata": {},
   "outputs": [],
   "source": [
    "random.shuffle(a)"
   ]
  },
  {
   "cell_type": "code",
   "execution_count": null,
   "metadata": {},
   "outputs": [],
   "source": [
    "a"
   ]
  },
  {
   "cell_type": "code",
   "execution_count": null,
   "metadata": {},
   "outputs": [],
   "source": [
    "print(\"** 로또 추첨을 시작합니다.**\")\n",
    "lotto_list = random.sample(list(range(1,46)),6)\n",
    "print(\"추첨된 로또 번호 ===> \",\" \".join(str(i) for i in lotto_list))"
   ]
  },
  {
   "cell_type": "code",
   "execution_count": null,
   "metadata": {},
   "outputs": [],
   "source": [
    "import time"
   ]
  },
  {
   "cell_type": "code",
   "execution_count": null,
   "metadata": {},
   "outputs": [],
   "source": [
    "time.localtime()"
   ]
  },
  {
   "cell_type": "code",
   "execution_count": null,
   "metadata": {},
   "outputs": [],
   "source": [
    "t =time.localtime()"
   ]
  },
  {
   "cell_type": "code",
   "execution_count": null,
   "metadata": {},
   "outputs": [],
   "source": [
    "def letter_dict(s_type):\n",
    "    temp_dict = dict()\n",
    "    x_set = set(s_type)\n",
    "    for key in x_set:\n",
    "        temp_dict[key] = s_type.count(key)\n",
    "    return temp_dict\n",
    "\n",
    "def max_letter(d_type):\n",
    "    return max(d_type.keys(),key=(lambda k: d_type[k]))\n",
    "    \n",
    "a = letter_dict('red apple')\n",
    "\n",
    "\n",
    "print(a)\n",
    "print(max_letter(a))"
   ]
  },
  {
   "cell_type": "code",
   "execution_count": null,
   "metadata": {},
   "outputs": [],
   "source": [
    "def comb_dict(dict1, dict2):\n",
    "    dict3 = dict1\n",
    "    for k,v in dict2.items():\n",
    "        if k == dict3.keys():\n",
    "            dict3[k] += v\n",
    "        else:\n",
    "            dict3[k] = v\n",
    "    return dict3\n",
    "\n",
    "b = letter_dict('yellow banana')\n",
    "c = comb_dict(a,b)\n",
    "print(c)\n",
    "print(max_letter(c))"
   ]
  },
  {
   "cell_type": "code",
   "execution_count": 6,
   "metadata": {},
   "outputs": [
    {
     "name": "stdout",
     "output_type": "stream",
     "text": [
      "[1, 2, 3, 4, 5, 6, [1, 2, 3]]\n"
     ]
    }
   ],
   "source": []
  },
  {
   "cell_type": "code",
   "execution_count": null,
   "metadata": {},
   "outputs": [],
   "source": [
    "import copy\n",
    "\n",
    "def letter_dict(s_type):\n",
    "    temp_dict = dict()\n",
    "    x_set = set(s_type)\n",
    "    for key in x_set:\n",
    "        temp_dict[key] = s_type.count(key)\n",
    "    return temp_dict\n",
    "\n",
    "def max_letter(d_type):\n",
    "    return max(d_type.keys(),key=(lambda k: d_type[k]))\n",
    "\n",
    "def comb_dict(dict1, dict2):\n",
    "    dict3 = copy.deepcopy(dict1)\n",
    "    for k,v in dict2.items():\n",
    "        if k in dict3:\n",
    "            dict3[k] += v\n",
    "        else:\n",
    "            dict3[k] = v\n",
    "    return dict3"
   ]
  },
  {
   "cell_type": "code",
   "execution_count": null,
   "metadata": {},
   "outputs": [],
   "source": [
    "a = letter_dict('red apple')\n",
    "b = letter_dict('yellow banana')\n",
    "c = comb_dict(a,b)"
   ]
  },
  {
   "cell_type": "code",
   "execution_count": null,
   "metadata": {},
   "outputs": [],
   "source": [
    "print(a)\n",
    "print(c)\n",
    "print(max_letter(c))"
   ]
  },
  {
   "cell_type": "code",
   "execution_count": null,
   "metadata": {
    "scrolled": true
   },
   "outputs": [],
   "source": [
    "a = ['1','2','3','4','5','6']\n",
    "b = []\n",
    "for i in range(len(a),1,-1):\n",
    "    b.append(i)\n",
    "print(b)"
   ]
  },
  {
   "cell_type": "code",
   "execution_count": null,
   "metadata": {},
   "outputs": [],
   "source": [
    "star = input(\"Input an integer: \")\n",
    "count = 0\n",
    "while count <len(star):\n",
    "    print(int(star[count])*'X')\n",
    "    count+=1"
   ]
  },
  {
   "cell_type": "code",
   "execution_count": null,
   "metadata": {},
   "outputs": [],
   "source": []
  }
 ],
 "metadata": {
  "kernelspec": {
   "display_name": "Python 3",
   "language": "python",
   "name": "python3"
  },
  "language_info": {
   "codemirror_mode": {
    "name": "ipython",
    "version": 3
   },
   "file_extension": ".py",
   "mimetype": "text/x-python",
   "name": "python",
   "nbconvert_exporter": "python",
   "pygments_lexer": "ipython3",
   "version": "3.5.6"
  }
 },
 "nbformat": 4,
 "nbformat_minor": 2
}
