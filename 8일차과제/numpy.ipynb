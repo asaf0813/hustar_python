{
 "cells": [
  {
   "cell_type": "code",
   "execution_count": 1,
   "metadata": {},
   "outputs": [],
   "source": [
    "import numpy as np"
   ]
  },
  {
   "cell_type": "markdown",
   "metadata": {},
   "source": [
    "### numpy"
   ]
  },
  {
   "cell_type": "code",
   "execution_count": 2,
   "metadata": {},
   "outputs": [
    {
     "name": "stdout",
     "output_type": "stream",
     "text": [
      "<class 'numpy.ndarray'>\n",
      "(3,)\n",
      "1 2 3\n"
     ]
    }
   ],
   "source": [
    "a = np.array([1,2,3]) # 1차원 array [1,2,3] 생성 print(type(a)) // ndarray 클래스의 객체가 만들어진다.\n",
    "print(type(a))\n",
    "print(a.shape) # 3행 1열\n",
    "print(a[0], a[1], a[2])"
   ]
  },
  {
   "cell_type": "code",
   "execution_count": 3,
   "metadata": {},
   "outputs": [
    {
     "name": "stdout",
     "output_type": "stream",
     "text": [
      "[5 2 3]\n"
     ]
    }
   ],
   "source": [
    "a[0] = 5 \n",
    "print(a) # 인덱스로도 접근이 가능함"
   ]
  },
  {
   "cell_type": "code",
   "execution_count": 4,
   "metadata": {},
   "outputs": [
    {
     "name": "stdout",
     "output_type": "stream",
     "text": [
      "(2, 3)\n",
      "1 2 4\n",
      "1 2 4\n"
     ]
    }
   ],
   "source": [
    "b = np.array([[1,2,3],[4,5,6]]) \n",
    "print(b.shape) # 2행 3열\n",
    "print(b[0, 0], b[0, 1], b[1, 0])\n",
    "print(b[0][0], b[0][1], b[1][0])"
   ]
  },
  {
   "cell_type": "code",
   "execution_count": 5,
   "metadata": {},
   "outputs": [
    {
     "name": "stdout",
     "output_type": "stream",
     "text": [
      "[[0. 0.]\n",
      " [0. 0.]] \n",
      "\n",
      "[[1. 1.]] \n",
      "\n",
      "[[7 7]\n",
      " [7 7]] \n",
      "\n",
      "[[1. 0.]\n",
      " [0. 1.]] \n",
      "\n",
      "[[0.6690446  0.1173521 ]\n",
      " [0.63024443 0.57417864]]\n"
     ]
    }
   ],
   "source": [
    "a = np.zeros((2,2)) # 모든 값이 0인 2x2 array 생성 \n",
    "print(a,'\\n')\n",
    "b = np.ones((1,2)) # 모든 값이 1인 1x2 array 생성 \n",
    "print(b,'\\n')\n",
    "c = np.full((2,2), 7) # 모든 값이 7인 2x2 array 생성 \n",
    "print(c,'\\n')\n",
    "d = np.eye(2) # 2x2 단위행렬(Identity matrix) 생성 \n",
    "print(d,'\\n')\n",
    "e = np.random.random((2,2)) # 0~1 랜덤 값을 가지는 2x2 array 생성 \n",
    "print(e)"
   ]
  },
  {
   "cell_type": "markdown",
   "metadata": {},
   "source": [
    "### Array slicing"
   ]
  },
  {
   "cell_type": "code",
   "execution_count": 6,
   "metadata": {},
   "outputs": [
    {
     "name": "stdout",
     "output_type": "stream",
     "text": [
      "[[2 3]\n",
      " [6 7]]\n",
      "2\n",
      "77\n"
     ]
    }
   ],
   "source": [
    "a = np.array([[1,2,3,4],\n",
    "              [5,6,7,8],\n",
    "              [9,10,11,12]])\n",
    "# 첫번째 행의 처음부터 2 앞까지(0,1), 두번째 행에서\n",
    "# 1부터 3 앞까지(1,2)의 값들을 떠와 b에 할당.\n",
    "# 따라서 b 는 다음과 같은 2x2 array:\n",
    "# [[2 3]\n",
    "# [6 7]]\n",
    "b = a[:2, 1:3] #[0행1행 : 1~3열]\n",
    "print(b)\n",
    "print(a[0, 1])\n",
    "b[0, 0] = 77\n",
    "print(a[0, 1])\n",
    "# Slicing을 한다고 해서 값을 복사해가는 것이 아니므로(주소를 가져오기때문에)\n",
    "# 값의 변화가 동시에 일어남"
   ]
  },
  {
   "cell_type": "code",
   "execution_count": 7,
   "metadata": {},
   "outputs": [
    {
     "name": "stdout",
     "output_type": "stream",
     "text": [
      "[5 6 7 8] (4,) \n",
      "\n",
      "[[5 6 7 8]] (1, 4) \n",
      "\n",
      "[ 2  6 10] (3,) \n",
      "\n",
      "[[ 2]\n",
      " [ 6]\n",
      " [10]] (3, 1)\n"
     ]
    }
   ],
   "source": [
    "# 2차원 배열(3x4) 생성\n",
    "# [[ 1 2 3 4]\n",
    "# [ 5 6 7 8]\n",
    "# [ 9 10 11 12]]\n",
    "a = np.array([[1,2,3,4],[5,6,7,8],[9,10,11,12]])\n",
    "# 두 번째 행의 값들을 모두 가져오는 두 가지 방법\n",
    "row_r1 = a[1, :] # 1차원 행렬 (4,)\n",
    "row_r2 = a[1:2, :] # 2차원 행렬 (1x4) – 기존 차원 유지\n",
    "print(row_r1, row_r1.shape,'\\n')\n",
    "print(row_r2, row_r2.shape,'\\n')\n",
    "# 두 번째 열의 값들을 모두 가져오는 두 가지 방법\n",
    "col_r1 = a[:, 1]\n",
    "col_r2 = a[:, 1:2]\n",
    "print(col_r1, col_r1.shape,'\\n')\n",
    "print(col_r2, col_r2.shape)"
   ]
  },
  {
   "cell_type": "markdown",
   "metadata": {},
   "source": [
    "### Array indexing"
   ]
  },
  {
   "cell_type": "code",
   "execution_count": 8,
   "metadata": {},
   "outputs": [
    {
     "name": "stdout",
     "output_type": "stream",
     "text": [
      "[1 4 5]\n",
      "[1 4 5]\n",
      "[2 2]\n",
      "[2 2]\n"
     ]
    }
   ],
   "source": [
    "# 2차원 배열(3x2) 생성\n",
    "# [[ 1 2]\n",
    "# [ 3 4]\n",
    "# [ 5 6]]\n",
    "a = np.array([[1, 2], \n",
    "              [3, 4], \n",
    "              [5, 6]])\n",
    "# [1 4 5] 1차원 행렬(3,)을 얻는 두 가지 방법\n",
    "print(a[[0, 1, 2], \n",
    "        [0, 1, 0]]) # [행열이름[행 index],[열 index]]\n",
    "print(np.array([a[0, 0], a[1, 1], a[2, 0]]))\n",
    "# [2 2] 1차원 행렬(2,)을 얻는 두 가지 방법\n",
    "print(a[[0, 0], [1, 1]])\n",
    "print(np.array([a[0, 1], a[0, 1]]))"
   ]
  },
  {
   "cell_type": "code",
   "execution_count": 9,
   "metadata": {},
   "outputs": [
    {
     "name": "stdout",
     "output_type": "stream",
     "text": [
      "[1 4 5]\n",
      "[1 4 5]\n"
     ]
    }
   ],
   "source": [
    "print(a[(0,1,2),[0,1,0]]) # 튜플도됨\n",
    "print(a[np.arange(3),[0,1,0]]) # np.arrange()도됨"
   ]
  },
  {
   "cell_type": "code",
   "execution_count": 10,
   "metadata": {},
   "outputs": [
    {
     "name": "stdout",
     "output_type": "stream",
     "text": [
      "[[ 1  2  3]\n",
      " [ 4  5  6]\n",
      " [ 7  8  9]\n",
      " [10 11 12]] \n",
      "\n",
      "[ 1  6  7 11] \n",
      "\n",
      "[[11  2  3]\n",
      " [ 4  5 16]\n",
      " [17  8  9]\n",
      " [10 21 12]] \n",
      "\n"
     ]
    }
   ],
   "source": [
    "# 2차원 배열(4x3) 생성\n",
    "# [[ 1 2 3]\n",
    "# [ 4 5 6]\n",
    "# [ 7 8 9]\n",
    "# [ 10 11 12]]\n",
    "a = np.array([[1,2,3],[4,5,6],[7,8,9],[10,11,12]])\n",
    "print(a,'\\n')\n",
    "b = np.array([0, 2, 0, 1])\n",
    "print(a[np.arange(4), b],'\\n') # [1 6 7 11]\n",
    "a[np.arange(4), b] += 10\n",
    "print(a,'\\n')"
   ]
  },
  {
   "cell_type": "markdown",
   "metadata": {},
   "source": [
    "### data tpye"
   ]
  },
  {
   "cell_type": "code",
   "execution_count": 11,
   "metadata": {},
   "outputs": [
    {
     "name": "stdout",
     "output_type": "stream",
     "text": [
      "int64\n",
      "float64\n",
      "int64\n"
     ]
    }
   ],
   "source": [
    "x = np.array([1, 2])\n",
    "print(x.dtype) # prints “int64”\n",
    "x = np.array([1.0, 2.0])\n",
    "print(x.dtype) # “float64”\n",
    "x = np.array([1, 2], dtype=np.int64) # 데이터타입 명시\n",
    "print(x.dtype) # “int64”"
   ]
  },
  {
   "cell_type": "markdown",
   "metadata": {},
   "source": [
    "### Array 연산"
   ]
  },
  {
   "cell_type": "code",
   "execution_count": 12,
   "metadata": {},
   "outputs": [
    {
     "name": "stdout",
     "output_type": "stream",
     "text": [
      "[[ 6.  8.]\n",
      " [10. 12.]]\n",
      "[[ 6.  8.]\n",
      " [10. 12.]]\n",
      "[[-4. -4.]\n",
      " [-4. -4.]]\n",
      "[[-4. -4.]\n",
      " [-4. -4.]]\n"
     ]
    }
   ],
   "source": [
    "x = np.array([[1, 2], [3, 4]], dtype=np.float64)\n",
    "y = np.array([[5, 6], [7, 8]], dtype=np.float64)\n",
    "# Elementwise sum\n",
    "# [[ 6.0 8.0]\n",
    "# [10.0 12.0]]\n",
    "print(x + y)\n",
    "print(np.add(x, y))\n",
    "# Elementwise difference\n",
    "# [[-4.0 -4.0]\n",
    "# [-4.0 -4.0]]\n",
    "print(x - y)\n",
    "print(np.subtract(x, y))"
   ]
  },
  {
   "cell_type": "code",
   "execution_count": 13,
   "metadata": {},
   "outputs": [
    {
     "name": "stdout",
     "output_type": "stream",
     "text": [
      "[[ 5. 12.]\n",
      " [21. 32.]]\n",
      "[[ 5. 12.]\n",
      " [21. 32.]]\n",
      "[[0.2        0.33333333]\n",
      " [0.42857143 0.5       ]]\n",
      "[[0.2        0.33333333]\n",
      " [0.42857143 0.5       ]]\n",
      "[[1.         1.41421356]\n",
      " [1.73205081 2.        ]]\n"
     ]
    }
   ],
   "source": [
    "# Elementwise product\n",
    "# [[ 5.0 12.0]\n",
    "# [21.0 32.0]]\n",
    "print(x * y)\n",
    "print(np.multiply(x, y)) # matrix 곱이 아니다\n",
    "# Elementwise division\n",
    "# [[0.2 0.33333333]\n",
    "# [0.42857143 0.5 ]]\n",
    "print(x / y)\n",
    "print(np.divide(x, y))\n",
    "# Elementwise square root\n",
    "# [[1. 1.41421356]\n",
    "# [1.73205081 2. ]]\n",
    "print(np.sqrt(x))"
   ]
  },
  {
   "cell_type": "markdown",
   "metadata": {},
   "source": [
    "### Array 연산 - dot"
   ]
  },
  {
   "cell_type": "code",
   "execution_count": 14,
   "metadata": {},
   "outputs": [
    {
     "name": "stdout",
     "output_type": "stream",
     "text": [
      "219\n",
      "219 \n",
      "\n",
      "[29 67]\n",
      "[29 67] \n",
      "\n",
      "[[19 22]\n",
      " [43 50]]\n",
      "[[19 22]\n",
      " [43 50]]\n"
     ]
    }
   ],
   "source": [
    "x = np.array([[1, 2], [3, 4]])\n",
    "y = np.array([[5, 6], [7, 8]])\n",
    "v = np.array([9, 10])\n",
    "w = np.array([11, 12])\n",
    "# v · w = 219\n",
    "print(v.dot(w))\n",
    "print(np.dot(v, w),'\\n')\n",
    "# 매트릭스 / 벡터 곱; [29 67]\n",
    "print(x.dot(v))\n",
    "print(np.dot(x, v),'\\n')\n",
    "# 매트릭스 / 매트릭스 곱;\n",
    "# [[19 22]\n",
    "# [43 50]]\n",
    "print(x.dot(y))\n",
    "print(np.dot(x, y))"
   ]
  },
  {
   "cell_type": "markdown",
   "metadata": {},
   "source": [
    "### Array 연산 - sum"
   ]
  },
  {
   "cell_type": "code",
   "execution_count": 15,
   "metadata": {},
   "outputs": [
    {
     "name": "stdout",
     "output_type": "stream",
     "text": [
      "10 \n",
      "\n",
      "[4 6] \n",
      "\n",
      "[3 7]\n"
     ]
    }
   ],
   "source": [
    "x = np.array([[1, 2], [3, 4]])\n",
    "#x.shape == (2,2)\n",
    "print(np.sum(x),'\\n') # 모든 원소의 합 (스칼라값이 나온다)\n",
    "print(np.sum(x, axis=0),'\\n') # 각 열의 합 (0을 주면 shape에서 0번째 행을 없어지면서 더한다.=열끼리더한다)\n",
    "print(np.sum(x, axis=1)) # 각 행의 합 (1을 주면 열을 줄이면서 더한다 = 행끼리 더한다)"
   ]
  },
  {
   "cell_type": "markdown",
   "metadata": {},
   "source": [
    "### Array 연산 - transpose"
   ]
  },
  {
   "cell_type": "code",
   "execution_count": 16,
   "metadata": {},
   "outputs": [
    {
     "name": "stdout",
     "output_type": "stream",
     "text": [
      "[[1 2]\n",
      " [3 4]]\n",
      "[[1 3]\n",
      " [2 4]] \n",
      "\n",
      "[1 2 3]\n",
      "[1 2 3] \n",
      "\n",
      "[[1 2]\n",
      " [3 4]\n",
      " [5 6]]\n",
      "[[1 3 5]\n",
      " [2 4 6]]\n"
     ]
    }
   ],
   "source": [
    "x = np.array([[1, 2], [3, 4]])\n",
    "print(x)\n",
    "print(x.T,'\\n') # 전치행렬 (Transposed mat.)\n",
    "v = np.array([1,2,3])\n",
    "print(v) # prints “[1 2 3]”\n",
    "print(v.T,'\\n') # prints “[1 2 3]”\n",
    "\n",
    "x = np.array([[1,2],[3,4],[5,6]])\n",
    "print(x)\n",
    "print(x.T)"
   ]
  },
  {
   "cell_type": "markdown",
   "metadata": {},
   "source": [
    "### Broadcasting"
   ]
  },
  {
   "cell_type": "code",
   "execution_count": 17,
   "metadata": {},
   "outputs": [
    {
     "name": "stdout",
     "output_type": "stream",
     "text": [
      "[[                   0                    0                    0]\n",
      " [                   0                    0                    0]\n",
      " [                   0                    0                    0]\n",
      " [   12385332774633586 -9223372036854775808 -3458755747609885551]]\n",
      "\n",
      "[[ 2  2  4]\n",
      " [ 5  5  7]\n",
      " [ 8  8 10]\n",
      " [11 11 13]]\n",
      "\n",
      "[[ 2  2  4]\n",
      " [ 5  5  7]\n",
      " [ 8  8 10]\n",
      " [11 11 13]]\n"
     ]
    }
   ],
   "source": [
    "import numpy as np\n",
    "x = np.array([[1,2,3], [4,5,6], [7,8,9], [10,11,12]])\n",
    "v = np.array([1,0,1])\n",
    "y = np.empty_like(x) # x와 같은(like) shape의 빈(empty) 매트릭스 만들기\n",
    "\n",
    "print(y, end='\\n\\n')\n",
    "\n",
    "# x의 각 행에 v와 elementwise 합을 하여 빈공간 y의 해당 행에 할당\n",
    "for i in range(4): #range(n) n-1까지 가져오겠다. \n",
    "    y[i, :] = x[i, :] + v\n",
    "print(y, end='\\n\\n')\n",
    "# 뒤에 값을 전부다 가져오면 생략이 가능하지만 앞의 값은 생략이 불가능하다.\n",
    "\n",
    "for i in range(x.shape[0]): #우리가 열의 갯수가 3인걸 알아서 4으로 명시했지만 원래표기는 이렇게해야 \n",
    "    y[i, :] = x[i] + v \n",
    "print(y)"
   ]
  },
  {
   "cell_type": "code",
   "execution_count": 18,
   "metadata": {},
   "outputs": [
    {
     "name": "stdout",
     "output_type": "stream",
     "text": [
      "[[1 0 1]\n",
      " [1 0 1]\n",
      " [1 0 1]\n",
      " [1 0 1]]\n",
      "[[ 2  2  4]\n",
      " [ 5  5  7]\n",
      " [ 8  8 10]\n",
      " [11 11 13]]\n"
     ]
    }
   ],
   "source": [
    "x = np.array([[1,2,3], [4,5,6], [7,8,9], [10,11,12]])\n",
    "v = np.array([1,0,1])\n",
    "vv = np.tile(v, (4, 1)) # v 내용을 4x1의 각 행에 반복함\n",
    "print(vv)\n",
    "# [[ 2 2 4]\n",
    "# [[ 5 5 7]\n",
    "# [[ 8 8 10]\n",
    "# [ 11 11 13]]\n",
    "y = x + vv\n",
    "print(y)"
   ]
  },
  {
   "cell_type": "code",
   "execution_count": 19,
   "metadata": {},
   "outputs": [
    {
     "name": "stdout",
     "output_type": "stream",
     "text": [
      "(3,)\n",
      "(1, 3)\n",
      "(1, 3)\n",
      "(1, 3)\n",
      "[[ 2  2  4]\n",
      " [ 5  5  7]\n",
      " [ 8  8 10]\n",
      " [11 11 13]] \n",
      "\n",
      "[[ 2  2  4]\n",
      " [ 5  5  7]\n",
      " [ 8  8 10]\n",
      " [11 11 13]]\n"
     ]
    }
   ],
   "source": [
    "x = np.array([[1,2,3], [4,5,6], [7,8,9], [10,11,12]])\n",
    "v = np.array([1,0,1])\n",
    "print(v.shape)\n",
    "o = np.array([[1,0,1]])\n",
    "print(o.shape)\n",
    "a = np.reshape(v,[1,3])\n",
    "b = v.reshape((1,3))\n",
    "print(a.shape)\n",
    "print(b.shape)\n",
    "# 브로드캐스팅을 사용하여 x의 각 행에 v값을 더함\n",
    "y = x + v\n",
    "z = x + o\n",
    "# [[ 2 2 4]\n",
    "# [[ 5 5 7]\n",
    "# [[ 8 8 10]\n",
    "# [ 11 11 13]]\n",
    "print(y,'\\n')\n",
    "print(z)"
   ]
  },
  {
   "cell_type": "code",
   "execution_count": 28,
   "metadata": {},
   "outputs": [
    {
     "name": "stdout",
     "output_type": "stream",
     "text": [
      "[[-1.  1.]\n",
      " [ 2. -1.]] \n",
      "\n",
      "[[15]\n",
      " [25]] \n",
      "\n",
      "[[10.]\n",
      " [ 5.]] \n",
      "\n",
      "[[10.]\n",
      " [ 5.]] \n",
      "\n",
      "[[10.]\n",
      " [ 5.]] \n",
      "\n",
      "[[-15.  15.]\n",
      " [ 50. -25.]]\n",
      "[[-15.  15.]\n",
      " [ 50. -25.]] \n",
      "\n"
     ]
    }
   ],
   "source": [
    "x = np.array([[1,1], [2,1]])\n",
    "a = np.linalg.inv(x)\n",
    "b = np.array([[15], [25]])\n",
    "print(a,'\\n')\n",
    "print(b,'\\n')\n",
    "\n",
    "\n",
    "print(a.dot(b),'\\n')\n",
    "print(np.dot(a,b),'\\n')\n",
    "print(np.matmul(a,b),'\\n') # \n",
    "print(a*b) # 같은 원소끼리 곱해준다. a랑 b랑 다른 shape 이지만 broadcasting이일어나서 2X2행렬의 같은 원소끼리 곱해짐\n",
    "print(np.multiply(a,b),'\\n')\n"
   ]
  },
  {
   "cell_type": "code",
   "execution_count": 29,
   "metadata": {},
   "outputs": [],
   "source": [
    "import pickle"
   ]
  },
  {
   "cell_type": "code",
   "execution_count": 30,
   "metadata": {},
   "outputs": [],
   "source": [
    "favorit_color = {'kitty':'yellow','lion':'red'}\n",
    "pickle.dump(favorit_color, open(\"save.p\",\"wb\"))"
   ]
  },
  {
   "cell_type": "code",
   "execution_count": 32,
   "metadata": {},
   "outputs": [
    {
     "name": "stdout",
     "output_type": "stream",
     "text": [
      "{'kitty': 'yellow', 'lion': 'red'}\n"
     ]
    }
   ],
   "source": [
    "fr=open('save.p','rb')\n",
    "l=pickle.load(fr)\n",
    "print(l)\n"
   ]
  },
  {
   "cell_type": "code",
   "execution_count": 69,
   "metadata": {},
   "outputs": [
    {
     "name": "stdout",
     "output_type": "stream",
     "text": [
      "[[0 0]\n",
      " [1 1]] [1 0]\n"
     ]
    }
   ],
   "source": [
    "import numpy as np\n",
    "x1 = np.array([0,0])\n",
    "x2 = np.array([0,1])\n",
    "x3 = np.array([1,0])\n",
    "x4 = np.array([1,1])\n",
    "\n",
    "while True:\n",
    "    a1 = np.random.randint(2)\n",
    "    a2 = np.random.randint(2)\n",
    "    a3 = np.random.randint(2)\n",
    "    a4 = np.random.randint(2)\n",
    "    b1 = np.random.randint(2)\n",
    "    b2 = np.random.randint(2)\n",
    "    w = np.array([[a1,a2],[a3,a4]])\n",
    "    b = np.array([b1,b2])\n",
    "    case1 = np.argmax(w.dot(x1) + b) == 0\n",
    "    case2 = np.argmax(w.dot(x2) + b) == 0\n",
    "    case3 = np.argmax(w.dot(x3) + b) == 0\n",
    "    case4 = np.argmax(w.dot(x4) + b) == 1\n",
    "    if case1 and case2 and case3 and case4:\n",
    "        print(w,b)\n",
    "        break\n"
   ]
  },
  {
   "cell_type": "code",
   "execution_count": 75,
   "metadata": {},
   "outputs": [
    {
     "name": "stdout",
     "output_type": "stream",
     "text": [
      "[[0 0]\n",
      " [1 1]] [1 0]\n"
     ]
    }
   ],
   "source": [
    "import numpy as np\n",
    "x1 = np.array([0,0])\n",
    "x2 = np.array([0,1])\n",
    "x3 = np.array([1,0])\n",
    "x4 = np.array([1,1])\n",
    "\n",
    "while True:\n",
    "    w = np.random.randint(0,2,size=(2,2))\n",
    "    b = np.random.randint(0,2,size=(2,))\n",
    "    case1 = np.argmax(w.dot(x1) + b) == 0\n",
    "    case2 = np.argmax(w.dot(x2) + b) == 0\n",
    "    case3 = np.argmax(w.dot(x3) + b) == 0\n",
    "    case4 = np.argmax(w.dot(x4) + b) == 1\n",
    "    if case1 and case2 and case3 and case4:\n",
    "        print(w,b)\n",
    "        break\n",
    "\n"
   ]
  },
  {
   "cell_type": "code",
   "execution_count": null,
   "metadata": {},
   "outputs": [],
   "source": []
  }
 ],
 "metadata": {
  "kernelspec": {
   "display_name": "Python 3",
   "language": "python",
   "name": "python3"
  },
  "language_info": {
   "codemirror_mode": {
    "name": "ipython",
    "version": 3
   },
   "file_extension": ".py",
   "mimetype": "text/x-python",
   "name": "python",
   "nbconvert_exporter": "python",
   "pygments_lexer": "ipython3",
   "version": "3.7.4"
  }
 },
 "nbformat": 4,
 "nbformat_minor": 2
}
