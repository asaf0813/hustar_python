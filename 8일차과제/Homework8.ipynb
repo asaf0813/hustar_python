{
 "cells": [
  {
   "cell_type": "code",
   "execution_count": 1,
   "metadata": {},
   "outputs": [
    {
     "name": "stdout",
     "output_type": "stream",
     "text": [
      "[[0 0]\n",
      " [1 1]] [1 0]\n"
     ]
    }
   ],
   "source": [
    "import numpy as np\n",
    "x1 = np.array([0,0])\n",
    "x2 = np.array([0,1])\n",
    "x3 = np.array([1,0])\n",
    "x4 = np.array([1,1])\n",
    "\n",
    "while True:\n",
    "    a1 = np.random.randint(2)\n",
    "    a2 = np.random.randint(2)\n",
    "    a3 = np.random.randint(2)\n",
    "    a4 = np.random.randint(2)\n",
    "    b1 = np.random.randint(2)\n",
    "    b2 = np.random.randint(2)\n",
    "    w = np.array([[a1,a2],[a3,a4]])\n",
    "    b = np.array([b1,b2])\n",
    "    case1 = np.argmax(w.dot(x1) + b) == 0\n",
    "    case2 = np.argmax(w.dot(x2) + b) == 0\n",
    "    case3 = np.argmax(w.dot(x3) + b) == 0\n",
    "    case4 = np.argmax(w.dot(x4) + b) == 1\n",
    "    if case1 and case2 and case3 and case4:\n",
    "        print(w,b)\n",
    "        break\n"
   ]
  },
  {
   "cell_type": "code",
   "execution_count": 8,
   "metadata": {},
   "outputs": [
    {
     "name": "stdout",
     "output_type": "stream",
     "text": [
      "[[0 0]\n",
      " [1 1]] [1 0]\n"
     ]
    }
   ],
   "source": [
    "x1 = np.array([0,0])\n",
    "x2 = np.array([0,1])\n",
    "x3 = np.array([1,0])\n",
    "x4 = np.array([1,1])\n",
    "\n",
    "while True:\n",
    "    w = np.random.randint(0,2,size=(2,2))\n",
    "    b = np.random.randint(0,2,size=(2,))\n",
    "    case1 = np.argmax(w.dot(x1) + b) == 0\n",
    "    case2 = np.argmax(w.dot(x2) + b) == 0\n",
    "    case3 = np.argmax(w.dot(x3) + b) == 0\n",
    "    case4 = np.argmax(w.dot(x4) + b) == 1\n",
    "    if case1 and case2 and case3 and case4:\n",
    "        print(w,b)\n",
    "        break"
   ]
  },
  {
   "cell_type": "code",
   "execution_count": null,
   "metadata": {},
   "outputs": [],
   "source": []
  }
 ],
 "metadata": {
  "kernelspec": {
   "display_name": "Python 3",
   "language": "python",
   "name": "python3"
  },
  "language_info": {
   "codemirror_mode": {
    "name": "ipython",
    "version": 3
   },
   "file_extension": ".py",
   "mimetype": "text/x-python",
   "name": "python",
   "nbconvert_exporter": "python",
   "pygments_lexer": "ipython3",
   "version": "3.7.4"
  }
 },
 "nbformat": 4,
 "nbformat_minor": 2
}
