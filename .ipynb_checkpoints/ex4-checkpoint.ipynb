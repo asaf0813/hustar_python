{
 "cells": [
  {
   "cell_type": "code",
   "execution_count": null,
   "metadata": {},
   "outputs": [],
   "source": [
    "def average(x,y):\n",
    "    return (x*0.4 + y*0.6)\n",
    "def grade_avg(x):\n",
    "    if x >= 90:\n",
    "        return 'A'\n",
    "    elif x >= 80 :\n",
    "        return 'B'\n",
    "    elif x >= 70 :\n",
    "        return 'C'\n",
    "    elif x >= 60:\n",
    "        return 'D'\n",
    "    else:\n",
    "        return 'F'\n",
    "    \n",
    "fr = open(\"score.txt\",\"r\")\n",
    "fw = open(\"report.txt\",\"w\")\n",
    "\n",
    "d = {}\n",
    "avg = 0\n",
    "grade = 0\n",
    "\n",
    "for line in fr:\n",
    "    line_list = line.split( )\n",
    "    d[line_list[0]] = line_list[1],line_list[2]\n",
    "    avg = average((float)(d[line_list[0]][0]),(float)(d[line_list[0]][1]))\n",
    "    grade = grade_avg(avg)\n",
    "    data = \"%s %s %s %.1f(%s)\" %(line_list[0],line_list[1],line_list[2],avg,grade)\n",
    "    fw.write(data)\n",
    "    print(data)\n",
    "\n",
    "fr.close()\n",
    "fw.close()\n"
   ]
  }
 ],
 "metadata": {
  "kernelspec": {
   "display_name": "Python 3",
   "language": "python",
   "name": "python3"
  },
  "language_info": {
   "codemirror_mode": {
    "name": "ipython",
    "version": 3
   },
   "file_extension": ".py",
   "mimetype": "text/x-python",
   "name": "python",
   "nbconvert_exporter": "python",
   "pygments_lexer": "ipython3",
   "version": "3.7.4"
  }
 },
 "nbformat": 4,
 "nbformat_minor": 2
}
