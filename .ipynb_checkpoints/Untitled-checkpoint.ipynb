{
 "cells": [
  {
   "cell_type": "code",
   "execution_count": null,
   "metadata": {},
   "outputs": [],
   "source": [
    "for x in range(1,10):\n",
    "    for y in range(2,10):\n",
    "        print(\"%d*%d=%2d\"%(y,x,x*y),end='   ')\n",
    "    print()"
   ]
  },
  {
   "cell_type": "code",
   "execution_count": null,
   "metadata": {},
   "outputs": [],
   "source": [
    "for x in range(2,10):\n",
    "    print('==%d단=='%x)\n",
    "    for y in range(1,10):\n",
    "        print('%d*%d=%d'%(x,y,x*y))"
   ]
  },
  {
   "cell_type": "code",
   "execution_count": null,
   "metadata": {},
   "outputs": [],
   "source": [
    "date=input(\"날짜(연/월/일) 입력 :\").split('/')\n",
    "\n",
    "year,month,day=date\n",
    "year=int(year)\n",
    "y2=year+10\n",
    "\n",
    "print(\"입력한 날짜의 10년 후는 %s년 %s월 %s일\"%(y2,month,day))"
   ]
  },
  {
   "cell_type": "code",
   "execution_count": null,
   "metadata": {},
   "outputs": [],
   "source": [
    "year,month,day = map(int,input(\"날짜(연/월/일) 입력 : \").split('/'))\n",
    "print(\"입력한 날짜의 10년 후는 %s년 %s월 %s일\"%(year+10,month,day))"
   ]
  },
  {
   "cell_type": "code",
   "execution_count": null,
   "metadata": {},
   "outputs": [],
   "source": [
    "T = int(input())\n",
    "for i in range(T):\n",
    "    eng_score = int(input(\"영어 점수 입력 : \"))\n",
    "    math_score = int(input(\"수학 점수 입력 : \"))\n",
    "    sum_score = eng_score + math_score\n",
    "    if sum_score >= 110:\n",
    "        if eng_score and math_score >= 40:\n",
    "            print(\"합격\")\n",
    "        elif eng_score < 40:\n",
    "            print(\"불합격 : 영어 점수 부족\")\n",
    "        elif math_score < 40:\n",
    "            print(\"불합격 : 수학 점수 부족\") \n",
    "    else:\n",
    "        print(\"불합격 : 총합 점수 부족\")"
   ]
  },
  {
   "cell_type": "code",
   "execution_count": null,
   "metadata": {},
   "outputs": [],
   "source": [
    "num = map(int,input().split())\n",
    "print(\"가장 큰 수는 %d 입니다.\"%(max(num)))"
   ]
  },
  {
   "cell_type": "code",
   "execution_count": null,
   "metadata": {},
   "outputs": [],
   "source": [
    "num = list(map(int,input().split()))\n",
    "max_num = 0\n",
    "if num[0] <= num[1]:\n",
    "    if num[1] <= num[2]:\n",
    "        max_num = num[2]\n",
    "    else:\n",
    "        max_num = num[1]\n",
    "elif num[0] >= num[1]:\n",
    "    if num[0] >= num[2]:\n",
    "        max_num = num[0]\n",
    "    else:\n",
    "        max_num = num[2]\n",
    "print(\"가장 큰 수는 %d 입니다.\"%(max_num))"
   ]
  },
  {
   "cell_type": "code",
   "execution_count": null,
   "metadata": {},
   "outputs": [],
   "source": [
    "dan =int(input('출력하고 하고 싶은 단을 입력하세요:'))\n",
    "for i in range(1,10):\n",
    "    print('%d * %d = %d'%(dan,i,dan*i))"
   ]
  },
  {
   "cell_type": "code",
   "execution_count": 9,
   "metadata": {},
   "outputs": [
    {
     "name": "stdout",
     "output_type": "stream",
     "text": [
      "Input an integer: 3159\n",
      "★★★\n",
      "★\n",
      "★★★★★\n",
      "★★★★★★★★★\n"
     ]
    }
   ],
   "source": [
    "star = str(input(\"Input an integer: \"))\n",
    "for i in star:\n",
    "    print(int(i)*'★')"
   ]
  },
  {
   "cell_type": "code",
   "execution_count": 8,
   "metadata": {},
   "outputs": [
    {
     "name": "stdout",
     "output_type": "stream",
     "text": [
      "Enter a number : 7\n",
      "Enter a number : 2\n",
      "Enter a number : 9\n",
      "Enter a number : 3\n",
      "Enter a number : 5\n",
      "Enter a number : done\n",
      "\n",
      "[7.0, 2.0, 9.0, 3.0, 5.0]\n",
      "Average: 5.2\n",
      "Maximum: 9.0\n",
      "Minimum: 2.0\n"
     ]
    }
   ],
   "source": [
    "num_list=[]\n",
    "\n",
    "while True:\n",
    "    num = input('Enter a number : ')\n",
    "    if num == 'done':\n",
    "        break\n",
    "    else:\n",
    "        num_list.append(float(num))\n",
    "        \n",
    "print('\\n',num_list,sep='')\n",
    "print('Average: %.1f\\nMaximum: %.1f\\nMinimum: %.1f'%(sum(num_list)/len(num_list),max(num_list),min(num_list)))"
   ]
  },
  {
   "cell_type": "code",
   "execution_count": 14,
   "metadata": {},
   "outputs": [
    {
     "name": "stdout",
     "output_type": "stream",
     "text": [
      "55\n"
     ]
    }
   ],
   "source": [
    "num = 1\n",
    "num_sum = 0\n",
    "while num <= 10:\n",
    "    num_sum += num\n",
    "    num += 1\n",
    "print(num_sum)"
   ]
  },
  {
   "cell_type": "code",
   "execution_count": 1,
   "metadata": {},
   "outputs": [
    {
     "name": "stdout",
     "output_type": "stream",
     "text": [
      "Input an integer: 314\n",
      "★★★\n",
      "★\n",
      "★★★★\n"
     ]
    }
   ],
   "source": [
    "star = (input(\"Input an integer: \"))\n",
    "for i in star:\n",
    "    print(int(i)*'★')"
   ]
  },
  {
   "cell_type": "code",
   "execution_count": 2,
   "metadata": {},
   "outputs": [],
   "source": [
    "colors = []"
   ]
  },
  {
   "cell_type": "code",
   "execution_count": null,
   "metadata": {},
   "outputs": [],
   "source": [
    "colors.append(\"red\")"
   ]
  }
 ],
 "metadata": {
  "kernelspec": {
   "display_name": "Python 3",
   "language": "python",
   "name": "python3"
  },
  "language_info": {
   "codemirror_mode": {
    "name": "ipython",
    "version": 3
   },
   "file_extension": ".py",
   "mimetype": "text/x-python",
   "name": "python",
   "nbconvert_exporter": "python",
   "pygments_lexer": "ipython3",
   "version": "3.5.6"
  }
 },
 "nbformat": 4,
 "nbformat_minor": 2
}
