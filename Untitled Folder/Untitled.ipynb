{
 "cells": [
  {
   "cell_type": "code",
   "execution_count": null,
   "metadata": {},
   "outputs": [],
   "source": [
    "import numpy as np  # numpy를 np로 쓰겠다.\n",
    "\n",
    "a = np.array([1,2,3]) #크기가3인 벡터가 생성된다.\n",
    "print(type(a))\n",
    "print(a.shape)\n",
    "print(a[0],a[1],a[2])\n",
    "a[0]=5\n",
    "print(a)\n",
    "print()\n",
    "\n",
    "b = np.array([[1,2,3],[4,5,6]])  ### matrix 생성\n",
    "print(b.shape)\n",
    "print(b[0, 0], b[0, 1], b[1, 0])  ## 첫번째는 행 두번째는 열에 대한 index"
   ]
  },
  {
   "cell_type": "code",
   "execution_count": null,
   "metadata": {},
   "outputs": [],
   "source": [
    "import numpy as np\n",
    "a = np.zeros([2,2]) # 모든 값이 0인 2x2 array 생성 (튜플 리스트 상관없다.)\n",
    "print(a, end='\\n\\n')\n",
    "b = np.ones((1,2)) # 모든 값이 1인 1x2 array 생성\n",
    "print(b)\n",
    "print()\n",
    "c = np.full([2,2], 7) # 모든 값이 7인 2x2(shape) array 생성\n",
    "print(c)\n",
    "print()\n",
    "d = np.eye(2) # 2x2 단위행렬(Identity matrix) 생성\n",
    "print(d)\n",
    "print()\n",
    "e = np.random.random((2,2)) # 0~1 랜덤 값을 가지는 2x2 array 생성 (범위가 없으면 0~1까지)\n",
    "print(e)"
   ]
  },
  {
   "cell_type": "code",
   "execution_count": null,
   "metadata": {},
   "outputs": [],
   "source": [
    "import numpy as np\n",
    "\n",
    "a = np.array([[1,2,3,4],[5,6,7,8],[9,10,11,12]]) # 행 4개 열3개\n",
    "# 첫번째 행의 처음부터 2 앞까지 (0,1), 두번째 헹에서 \n",
    "# 1부터 3앞까지(1,2)의 값들을 떠와 b에 할당.\n",
    "# 따라서 b 는 다음과 같은 2x2 array:\n",
    "# [[2 3]\n",
    "#  [6 7]]\n",
    "print(a, end='\\n\\n')\n",
    "b = a[:2, 1:3]\n",
    "print(a[0, 1], end='\\n\\n')\n",
    "b[0, 0] = 77   ## 슬라이싱을 한다고해서 값이 복사되는것이 아니므로 원본 회손에 주의해야함\n",
    "print(a[0, 1], end='\\n\\n')\n"
   ]
  },
  {
   "cell_type": "code",
   "execution_count": null,
   "metadata": {},
   "outputs": [],
   "source": [
    "import numpy as np\n",
    "# 2차원 배열(3x4) 생성\n",
    "# [[ 1 2 3 4]\n",
    "# [ 5 6 7 8]\n",
    "# [ 9 10 11 12]]\n",
    "a = np.array([[1,2,3,4],[5,6,7,8],[9,10,11,12]])\n",
    "\n",
    "# 두 번째 행의 값들을 모두 가져오는 두 가지 방법\n",
    "row_r1 = a[1, :] # 1차원 행렬 (4,) index를 읽어오는 것이므로 그냥 그 값만 가져옴 (벡터형태로)\n",
    "row_r2 = a[1:2, :] # 2차원 행렬 (1x4) – 기존 차원 유지\n",
    "print(row_r1, row_r1.shape)\n",
    "print(row_r2, row_r2.shape, end='\\n\\n')\n",
    "\n",
    "# 두 번째 열의 값들을 모두 가져오는 두 방법\n",
    "col_r1 = a[:,1]\n",
    "col_r2 = a[:,1:2]\n",
    "print(col_r1,col_r1.shape)\n",
    "print(col_r2,col_r2.shape, end='\\n\\n')\n"
   ]
  },
  {
   "cell_type": "code",
   "execution_count": null,
   "metadata": {},
   "outputs": [],
   "source": [
    "import numpy as np\n",
    "# 2차원 배열(3x2) 생성\n",
    "# [[ 1 2]\n",
    "# [ 3 4]\n",
    "# [ 5 6]]\n",
    "a = np.array([[1, 2], [3, 4], [5, 6]])\n",
    "\n",
    "# [1 4 5] 1차원 행렬(3,)을 얻는 두 가지 방법\n",
    "# (a,b)a b가 서로 길이가 맞아야한다. 행 길이와 열 길이가 다르면 한쪽이 남고 다른쪽이 넣을게 없어서 오류가난다.\n",
    "print(a[[0, 1, 2], [0, 1, 0]])  #(list  형식으로 넣으면 0번째 행,0번째 열의 값, 1번째 행,1번째 열의값 .....)\n",
    "print(np.array([a[0, 0], a[1, 1], a[2, 0]]),end='\\n\\n') \n",
    "\n",
    "# [2 2] 1차원 행렬(2,)을 얻는 두 가지 방법\n",
    "print(a[[0, 0], [1, 1]]) #길이가 동일해야 한다.\n",
    "print(np.array([a[0, 1], a[0, 1]]),end='\\n\\n')"
   ]
  },
  {
   "cell_type": "code",
   "execution_count": null,
   "metadata": {},
   "outputs": [],
   "source": [
    "import numpy as np\n",
    "# 2차원 배열(4x3) 생성\n",
    "a = np.array([[1,2,3],[4,5,6],[7,8,9],[10,11,12]])\n",
    "print(a,end='\\n\\n')\n",
    "\n",
    "b = np.array([0, 2, 0, 1])  \n",
    "print(a[np.arange(4), b],end='\\n\\n') # [1 6 7 11] (arange : array + arange) 벡터가나온다.\n",
    "\n",
    "a[np.arange(4), b] += 10\n",
    "print(a,end='\\n\\n') "
   ]
  },
  {
   "cell_type": "code",
   "execution_count": null,
   "metadata": {},
   "outputs": [],
   "source": [
    "import numpy as np\n",
    "x = np.array([1, 2]) # 데이터 타입을 명시안해주어도 알아서 int float 알아서 판단한다.)\n",
    "print(x.dtype) # prints “int64” (내부값이 어떤 데이터 파일인가? )\n",
    "\n",
    "x = np.array([1.0, 2.0])\n",
    "print(x.dtype) # “float64” \n",
    "\n",
    "x = np.array([1, 2], dtype=np.float64) # 데이터타입 명시\n",
    "print(x.dtype) # “int64 지만 float으로 바꿀수있다. "
   ]
  },
  {
   "cell_type": "code",
   "execution_count": null,
   "metadata": {},
   "outputs": [],
   "source": [
    "import numpy as np\n",
    "\n",
    "x= np.array([[1, 2], [3, 4]], dtype=np.float64)\n",
    "y= np.array([[5, 6], [7, 8]], dtype=np.float64)\n",
    "\n",
    "#Elementwise sum\n",
    "#[[6.0 8.0]\n",
    "# [10.0 12.0]]\n",
    "print(x+y)\n",
    "print(np.add(x, y), end='\\n\\n')\n",
    "\n",
    "#Elementwise difference /// matrix곱이아니다!!\n",
    "#[[-4.0 -4.0]\n",
    "# [-4.0 -4.0]]\n",
    "print(x, -y)\n",
    "print(np.subtract(x, y), end='\\n\\n')\n",
    "\n",
    "#Elementwise product\n",
    "#[[5.0 12.0]\n",
    "# [21.0 32.0]]\n",
    "print(x*y)\n",
    "print(np.multiply(x, y), end='\\n\\n')\n",
    "\n",
    "#Elementwise division\n",
    "#[[0.2      0.333333]\n",
    "# [0.42857.      0.5]]    \n",
    "print(x/y)\n",
    "print(np.divide(x,y), end='\\n\\n')\n",
    "\n",
    "#Elementwise square root\n",
    "#[[1.     1.4142135]\n",
    "# [1.7320 2.       ]]\n",
    "print(np.sqrt(x))"
   ]
  },
  {
   "cell_type": "code",
   "execution_count": null,
   "metadata": {},
   "outputs": [],
   "source": [
    "import numpy as np\n",
    "x = np.array([[1, 2], [3, 4]])\n",
    "y = np.array([[5, 6], [7, 8]])\n",
    "v = np.array([9, 10])  ## 열백터가 v \n",
    "# ex)\n",
    "#[1 2] [9]   shape 를 바꿔주어도 해도된다.   [9 10] [[1 2]\n",
    "#[3 4] [10]                                     [3 4]]\n",
    "\n",
    "# reshape를 하는방법\n",
    "#v2 = np.reshape(v, (1,vshape[0]) ## 튜플이여서 0의 인덱스를 가져와야 계산할 수 있음\n",
    "#print(v2, v2shape)\n",
    "\n",
    "w = np.array([11, 12])\n",
    "# v · w = 219\n",
    "print(v.dot(w)) \n",
    "print(np.dot(v, w), end='\\n\\n')\n",
    "\n",
    "# 매트릭스 / 벡터 곱;\n",
    "print(x.dot(v))\n",
    "print(np.dot(x, v), end='\\n\\n')\n",
    "\n",
    "# 매트릭스 / 매트릭스 곱;\n",
    "print(x.dot(y))\n",
    "print(np.dot(x, y))"
   ]
  },
  {
   "cell_type": "code",
   "execution_count": null,
   "metadata": {},
   "outputs": [],
   "source": [
    "import numpy as np\n",
    "x = np.array([[1, 2], [3, 4]])\n",
    "#x.shape == (2,2)\n",
    "print(np.sum(x), end='\\n\\n') # 모든 원소의 합 (스칼라값이 나온다)\n",
    "print(np.sum(x, axis=0), end='\\n\\n') # 각 열의 합 (0을 주면 shape에서 0번째 행을 줄이면서 더한다.=열끼리더한다)\n",
    "print(np.sum(x, axis=1)) # 각 행의 합 (1을 주면 열을 줄이면서 더한다 = 행끼리 더한다)"
   ]
  },
  {
   "cell_type": "code",
   "execution_count": null,
   "metadata": {},
   "outputs": [],
   "source": [
    "### 벡터는 그대로 나오고 스칼라는 트랜스퍼해서 나온다.\n",
    "import numpy as np\n",
    "x = np.array([[1, 2], [3, 4]])\n",
    "print(x) \n",
    "print(x.T, end='\\n\\n')\n",
    "# 전치행렬 (Transposed mat.)\n",
    "v = np.array([1,2,3])\n",
    "print(v, end='\\n\\n')# prints “[1 2 3]”\n",
    "print(v.T, end='\\n\\n')# prints “[1 2 3]"
   ]
  },
  {
   "cell_type": "code",
   "execution_count": null,
   "metadata": {},
   "outputs": [],
   "source": [
    "import numpy as np\n",
    "x = np.array([[1,2,3], [4,5,6], [7,8,9], [10,11,12]])\n",
    "v = np.array([1,0,1])\n",
    "y = np.empty_like(x) # x와 같은(like) shape의 빈(empty) 매트릭스 만들기\n",
    "\n",
    "print(y, end='\\n\\n')\n",
    "\n",
    "# x의 각 행에 v와 elementwise 합을 하여 빈공간 y의 해당 행에 할당\n",
    "for i in range(4): #range(n) n-1까지 가져오겠다. \n",
    "    y[i, :] = x[i, :] + v\n",
    "print(y, end='\\n\\n')\n",
    "# 뒤에 값을 전부다 가져오면 생략이 가능하지만 앞의 값은 생략이 불가능하다.\n",
    "\n",
    "for i in range(x.shape[0]): #우리가 열의 갯수가 3인걸 알아서 3으로 명시했지만 원래표기는 이렇게해야 \n",
    "    y[i, :] = x[i] + v \n",
    "print(y)"
   ]
  },
  {
   "cell_type": "code",
   "execution_count": null,
   "metadata": {},
   "outputs": [],
   "source": [
    "# 아직 위의 코드가 이해가 되지 않더라도 앞으로 배울 것이니 너무 걱정하지 않으셔도 됩니다.\n",
    "import numpy as np\n",
    "x = np.array([[1,2,3], [4,5,6], [7,8,9], [10,11,12]])\n",
    "v = np.array([1,0,1])\n",
    "vv = np.tile(v, (4, 1)) # v 내용을 4x1의 각 행에 반복함\n",
    "print(vv, end='\\n\\n')\n",
    "\n",
    "y = x + vv\n",
    "print(y)"
   ]
  },
  {
   "cell_type": "code",
   "execution_count": null,
   "metadata": {},
   "outputs": [],
   "source": [
    "import numpy as np\n",
    "x = np.array([[1,2,3], [4,5,6], [7,8,9], [10,11,12]])\n",
    "#c = x.T 행과 열이 바뀌면\n",
    "# v= np.array([1,0,1], reshape((3.1))) **shape이 맞아야 연산이된다.\n",
    "v = np.array([1,0,1])\n",
    "# 브로드캐스팅을 사용하여 x의 각 행에 v값을 더함\n",
    "y = x + v\n",
    "print(y)"
   ]
  },
  {
   "cell_type": "code",
   "execution_count": null,
   "metadata": {},
   "outputs": [],
   "source": [
    "import numpy as np\n",
    "x = np.array([[1,1], [2,1]])\n",
    "a = np.linalg.inv(x)\n",
    "b = np.array([[15], [25]])\n",
    "\n",
    "print(a.dot(b),end='\\n\\n')\n",
    "print(np.dot(a,b),end='\\n\\n')\n",
    "print(np.matmul(a,b))  ### matmul 메트리스곱의 기본적인 연산자 dot과 비슷함"
   ]
  },
  {
   "cell_type": "code",
   "execution_count": null,
   "metadata": {},
   "outputs": [],
   "source": [
    "import pickle\n",
    "fw=open('test_pickle.p','wb')\n",
    "pickle.dump([{'kitty':'yellow','lion':'red'},[1,2,3,4,]], fw)\n",
    "fw.close()"
   ]
  },
  {
   "cell_type": "code",
   "execution_count": null,
   "metadata": {},
   "outputs": [],
   "source": [
    "fr=open('test_pickle.p','rb')\n",
    "d, l=pickle.load(fr)\n",
    "fr.close()\n",
    "\n",
    "print(d, end='\\n\\n')\n",
    "print(l)"
   ]
  },
  {
   "cell_type": "code",
   "execution_count": null,
   "metadata": {},
   "outputs": [],
   "source": [
    "class oooo():\n",
    "    def __init__(self):\n",
    "        self.member = [1,2,3]\n",
    "    def __repr__(self):\n",
    "        return str(self.member)\n",
    "print(oooo())\n",
    "print(oooo().member)"
   ]
  },
  {
   "cell_type": "code",
   "execution_count": null,
   "metadata": {},
   "outputs": [],
   "source": []
  },
  {
   "cell_type": "code",
   "execution_count": null,
   "metadata": {},
   "outputs": [],
   "source": []
  },
  {
   "cell_type": "code",
   "execution_count": null,
   "metadata": {},
   "outputs": [],
   "source": []
  },
  {
   "cell_type": "code",
   "execution_count": null,
   "metadata": {},
   "outputs": [],
   "source": []
  },
  {
   "cell_type": "code",
   "execution_count": null,
   "metadata": {},
   "outputs": [],
   "source": []
  }
 ],
 "metadata": {
  "kernelspec": {
   "display_name": "Python 3",
   "language": "python",
   "name": "python3"
  },
  "language_info": {
   "codemirror_mode": {
    "name": "ipython",
    "version": 3
   },
   "file_extension": ".py",
   "mimetype": "text/x-python",
   "name": "python",
   "nbconvert_exporter": "python",
   "pygments_lexer": "ipython3",
   "version": "3.5.6"
  }
 },
 "nbformat": 4,
 "nbformat_minor": 2
}
