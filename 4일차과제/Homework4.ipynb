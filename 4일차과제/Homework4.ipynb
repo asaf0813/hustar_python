{
 "cells": [
  {
   "cell_type": "markdown",
   "metadata": {},
   "source": [
    "+ 실습1) 파일에 있는 각각의 단어 수 구하기"
   ]
  },
  {
   "cell_type": "code",
   "execution_count": 1,
   "metadata": {},
   "outputs": [
    {
     "name": "stdout",
     "output_type": "stream",
     "text": [
      "second 1\n",
      "first 1\n",
      "line 3\n",
      "third 1\n"
     ]
    }
   ],
   "source": [
    "f = open(\"text.txt\",\"r\")\n",
    "d = {}\n",
    "for line in f:\n",
    "    line_list = line.split()\n",
    "    for word in line_list:\n",
    "        if word in d:\n",
    "            d[word] += 1\n",
    "        else:\n",
    "            d[word] = 1\n",
    "f.close()\n",
    "for i in d:\n",
    "    print(i,d[i])"
   ]
  },
  {
   "cell_type": "code",
   "execution_count": 2,
   "metadata": {},
   "outputs": [
    {
     "name": "stdout",
     "output_type": "stream",
     "text": [
      "line 3\n",
      "second 1\n",
      "first 1\n",
      "third 1\n"
     ]
    }
   ],
   "source": [
    "f = open(\"text.txt\",\"r\")\n",
    "word = f.read().split()\n",
    "f.close()\n",
    "dict_word = {}\n",
    "word_set = set(word)\n",
    "for i in word_set:\n",
    "    dict_word[i] = word.count(i)\n",
    "for k, v in dict_word.items():\n",
    "    print(k,v)"
   ]
  },
  {
   "cell_type": "markdown",
   "metadata": {},
   "source": [
    "+ 실습2) 파일명을 입력 받아, 해당 파일을 한 줄씩 읽어 파일의 내용을 모두 대문자로 출력하는 프로그램을 작성하시오."
   ]
  },
  {
   "cell_type": "code",
   "execution_count": 3,
   "metadata": {},
   "outputs": [
    {
     "name": "stdout",
     "output_type": "stream",
     "text": [
      "FIRST LINE\n",
      "\n",
      "SECOND LINE\n",
      "\n",
      "THIRD LINE\n"
     ]
    }
   ],
   "source": [
    "f = open(\"text.txt\",\"r\")\n",
    "for line in f:\n",
    "    line_list = line\n",
    "    print(line_list.upper())\n",
    "    "
   ]
  },
  {
   "cell_type": "markdown",
   "metadata": {},
   "source": [
    "+ 실습4) 아래의 score.txt를 읽어서 학생들의 성적을 처리하여 그 결과를 report.txt로 출력하는 프로그램을 작성하시오."
   ]
  },
  {
   "cell_type": "code",
   "execution_count": 8,
   "metadata": {},
   "outputs": [
    {
     "name": "stdout",
     "output_type": "stream",
     "text": [
      "201901 89 78 82.4(B)\n",
      "201902 76 84 80.8(B)\n",
      "201903 67 42 52.0(F)\n",
      "201904 66 88 79.2(C)\n",
      "201905 98 99 98.6(A)\n"
     ]
    }
   ],
   "source": [
    "def average(x,y):\n",
    "    return (x*0.4 + y*0.6)\n",
    "def grade_avg(x):\n",
    "    if x >= 90:\n",
    "        return 'A'\n",
    "    elif x >= 80 :\n",
    "        return 'B'\n",
    "    elif x >= 70 :\n",
    "        return 'C'\n",
    "    elif x >= 60:\n",
    "        return 'D'\n",
    "    else:\n",
    "        return 'F'\n",
    "    \n",
    "fr = open(\"score.txt\",\"r\")\n",
    "fw = open(\"report.txt\",\"w\")\n",
    "\n",
    "d = {}\n",
    "avg = 0\n",
    "grade = 0\n",
    "\n",
    "for line in fr:\n",
    "    line_list = line.split( )\n",
    "    d[line_list[0]] = line_list[1],line_list[2]\n",
    "    avg = average((float)(d[line_list[0]][0]),(float)(d[line_list[0]][1]))\n",
    "    grade = grade_avg(avg)\n",
    "    data = \"%s %s %s %.1f(%s)\" %(line_list[0],line_list[1],line_list[2],avg,grade)\n",
    "    fw.write(data)\n",
    "    print(data)\n",
    "\n",
    "fr.close()\n",
    "fw.close()\n"
   ]
  },
  {
   "cell_type": "code",
   "execution_count": null,
   "metadata": {},
   "outputs": [],
   "source": []
  }
 ],
 "metadata": {
  "kernelspec": {
   "display_name": "Python 3",
   "language": "python",
   "name": "python3"
  },
  "language_info": {
   "codemirror_mode": {
    "name": "ipython",
    "version": 3
   },
   "file_extension": ".py",
   "mimetype": "text/x-python",
   "name": "python",
   "nbconvert_exporter": "python",
   "pygments_lexer": "ipython3",
   "version": "3.7.4"
  }
 },
 "nbformat": 4,
 "nbformat_minor": 2
}
