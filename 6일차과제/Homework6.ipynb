{
 "cells": [
  {
   "cell_type": "markdown",
   "metadata": {},
   "source": [
    "### 과제 1 – prime.py\n",
    "+ 소수(Prime Number) 판단하는 함수 정의하기 \n",
    "+ 소수이면, True 반환\n",
    "+ 소수가 아니면, False 반환"
   ]
  },
  {
   "cell_type": "code",
   "execution_count": 1,
   "metadata": {},
   "outputs": [
    {
     "name": "stdout",
     "output_type": "stream",
     "text": [
      "13는 소수입니다.\n",
      "15는 소수가 아닙니다.\n"
     ]
    }
   ],
   "source": [
    "def check_prime(num):\n",
    "    if num < 2:\n",
    "        return False\n",
    "    if num == 2:\n",
    "        return True\n",
    "    if num >= 2:\n",
    "        for f in range(2, num):\n",
    "            if num % f == 0:\n",
    "                return False\n",
    "        return True\n",
    "\n",
    "def main():\n",
    "    a=13\n",
    "    b=15\n",
    "    if check_prime(a):\n",
    "        print(str(a) + '는 소수입니다.')\n",
    "    else:\n",
    "        print(str(a) + '는 소수가 아닙니다.')\n",
    "\n",
    "    if check_prime(b):\n",
    "        print(str(b) + '는 소수입니다.')\n",
    "    else:\n",
    "        print(str(b) + '는 소수가 아닙니다.')\n",
    "\n",
    "if __name__ == '__main__':\n",
    "    main()\n"
   ]
  },
  {
   "cell_type": "markdown",
   "metadata": {},
   "source": [
    "### 과제 2 – add_comma.py\n",
    "+ 천 단위마다 쉼표(,) 추가하는 함수 정의하기 \n",
    "+ 1000000(int)이면, ‘1,000,000’(str) 반환"
   ]
  },
  {
   "cell_type": "code",
   "execution_count": 2,
   "metadata": {},
   "outputs": [
    {
     "name": "stdout",
     "output_type": "stream",
     "text": [
      "1,234\n",
      "123,45,678\n",
      "12\n",
      "1,004\n"
     ]
    }
   ],
   "source": [
    "def add_comma(val):\n",
    "    temp = str(val)[::-1]\n",
    "    temp = list(reversed(str(val)))\n",
    "    for i in range(len(temp)):\n",
    "        if (i+1) % 3 == 0:\n",
    "            temp.insert(i+1,',')\n",
    "        else:\n",
    "            pass\n",
    "    result = \"\".join(temp)\n",
    "    return result[::-1]\n",
    "        \n",
    "def main():\n",
    "    comma_added_1234 = add_comma(1234)\n",
    "    comma_added_12345678 = add_comma(12345678)\n",
    "    comma_added_12 = add_comma(12)\n",
    "    comma_added_1004 = add_comma(1004)\n",
    "\n",
    "    print(comma_added_1234)\n",
    "    print(comma_added_12345678)\n",
    "    print(comma_added_12)\n",
    "    print(comma_added_1004)\n",
    "\n",
    "\n",
    "if __name__ == '__main__':\n",
    "    main()"
   ]
  },
  {
   "cell_type": "code",
   "execution_count": 3,
   "metadata": {},
   "outputs": [
    {
     "name": "stdout",
     "output_type": "stream",
     "text": [
      "1,234\n",
      "12,345,678\n",
      "12\n",
      "1,004\n"
     ]
    }
   ],
   "source": [
    "def add_comma(val):\n",
    "    return \"{:,}\".format(val)\n",
    "\n",
    "def main():\n",
    "    comma_added_1234 = add_comma(1234)\n",
    "    comma_added_12345678 = add_comma(12345678)\n",
    "    comma_added_12 = add_comma(12)\n",
    "    comma_added_1004 = add_comma(1004)\n",
    "\n",
    "    print(comma_added_1234)\n",
    "    print(comma_added_12345678)\n",
    "    print(comma_added_12)\n",
    "    print(comma_added_1004)\n",
    "\n",
    "\n",
    "if __name__ == '__main__':\n",
    "    main()"
   ]
  },
  {
   "cell_type": "markdown",
   "metadata": {},
   "source": [
    "### 과제 4 – mean_and_var.py\n",
    "+ 여러 벡터를 입력받아, 평균(Mean)과 분산 (Variance)을 구하는 함수 정의하기"
   ]
  },
  {
   "cell_type": "code",
   "execution_count": 4,
   "metadata": {},
   "outputs": [
    {
     "name": "stdout",
     "output_type": "stream",
     "text": [
      "평균: (0.5, 0.5)분산:(0.16666666666666666, 0.16666666666666666)\n"
     ]
    }
   ],
   "source": [
    "def mean_and_var(*val):\n",
    "    val_len = len(val)\n",
    "    x = 0\n",
    "    y = 0\n",
    "    for i in range(0, val_len):\n",
    "        x += val[i][0]\n",
    "        y += val[i][1]\n",
    "\n",
    "    x_avg = x / val_len\n",
    "    y_avg = y / val_len\n",
    "\n",
    "    avg = (x_avg, y_avg)\n",
    "\n",
    "    x = 0\n",
    "    y = 0\n",
    "    for i in range(0, val_len):\n",
    "        x += ((val[i][0] - x_avg) * (val[i][0] - x_avg))\n",
    "        y += ((val[i][1] - y_avg) * (val[i][1] - y_avg))\n",
    "\n",
    "    x_var = x / val_len\n",
    "    y_var = y / val_len\n",
    "\n",
    "    var = (x_var, y_var)\n",
    "\n",
    "    return str(avg), str(var)\n",
    "\n",
    "def main():\n",
    "    v1 = (0, 1)\n",
    "    v2 = (0.5, 0.5)\n",
    "    v3 = (1, 0)\n",
    "\n",
    "    m, var = mean_and_var(v1, v2, v3)\n",
    "    print(\"평균: \" + m +  \"분산:\" + var)\n",
    "\n",
    "if __name__ == '__main__':\n",
    "    main()"
   ]
  }
 ],
 "metadata": {
  "kernelspec": {
   "display_name": "Python 3",
   "language": "python",
   "name": "python3"
  },
  "language_info": {
   "codemirror_mode": {
    "name": "ipython",
    "version": 3
   },
   "file_extension": ".py",
   "mimetype": "text/x-python",
   "name": "python",
   "nbconvert_exporter": "python",
   "pygments_lexer": "ipython3",
   "version": "3.7.0"
  }
 },
 "nbformat": 4,
 "nbformat_minor": 2
}
